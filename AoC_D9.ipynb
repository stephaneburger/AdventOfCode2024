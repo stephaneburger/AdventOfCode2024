{
 "cells": [
  {
   "cell_type": "code",
   "execution_count": 423,
   "id": "e631310a-9a6c-4f8a-aff9-e5c1124c6ab6",
   "metadata": {},
   "outputs": [],
   "source": [
    "data = \"\"\"2333133121414131402\"\"\""
   ]
  },
  {
   "cell_type": "code",
   "execution_count": 408,
   "id": "9c6f6c28-d4b6-4063-8d9c-6a47c7557e44",
   "metadata": {},
   "outputs": [],
   "source": [
    "with open(\"AoC_D9_data.txt\", \"r\") as f:\n",
    "    data = f.read()"
   ]
  },
  {
   "cell_type": "code",
   "execution_count": 424,
   "id": "6f302f32-02e5-42d9-8d48-c48c9da39ef1",
   "metadata": {},
   "outputs": [],
   "source": [
    "data = list(data)"
   ]
  },
  {
   "cell_type": "code",
   "execution_count": 425,
   "id": "bf2f68fd-b6ef-4798-af78-bbebafac7449",
   "metadata": {},
   "outputs": [],
   "source": [
    "def disk_map_to_blocks(disk_map):\n",
    "    blocks_map = []\n",
    "    for n, i in enumerate(list(disk_map)):\n",
    "        if n%2==0:\n",
    "            blocks_map.extend([str(int(n/2))]*int(i))\n",
    "        else:\n",
    "            blocks_map.extend([\".\"]*int(i))\n",
    "    return blocks_map"
   ]
  },
  {
   "cell_type": "code",
   "execution_count": 426,
   "id": "bb57cb19-6c33-4a9c-9a46-bede53f621d1",
   "metadata": {},
   "outputs": [],
   "source": [
    "def compactify_blocks(blocks_map):\n",
    "    last_file_block = -1\n",
    "    while '.' in \"\".join(blocks_map).rstrip('.'):\n",
    "        ind_space = blocks_map.index('.')\n",
    "        for n, v in enumerate(blocks_map[::-1]):\n",
    "            if v != '.': break\n",
    "        ind_last_file_block = len(blocks_map) - 1 - n        \n",
    "        if last_file_block != blocks_map[ind_last_file_block]:\n",
    "            if int(blocks_map[ind_last_file_block])%100==0:\n",
    "                print(blocks_map[ind_last_file_block])\n",
    "        last_file_block = blocks_map[ind_last_file_block]\n",
    "        blocks_map.pop(ind_last_file_block)\n",
    "        blocks_map.pop(blocks_map.index('.'))\n",
    "        blocks_map.insert(ind_space, last_file_block)\n",
    "        blocks_map = blocks_map + ['.']\n",
    "        # print(\"\".join(blocks_map))\n",
    "    return blocks_map"
   ]
  },
  {
   "cell_type": "code",
   "execution_count": 427,
   "id": "c412cc80-df0b-4716-ada1-0305bd31bc5b",
   "metadata": {},
   "outputs": [],
   "source": [
    "def calculate_checksum(blocks_map):\n",
    "    cs = 0\n",
    "    for i, v in enumerate(blocks_map):\n",
    "        if v == \".\":\n",
    "            continue\n",
    "        cs += int(v)*i\n",
    "    return cs"
   ]
  },
  {
   "cell_type": "code",
   "execution_count": 428,
   "id": "390600cc-4564-4082-bcc6-4dfb0b306757",
   "metadata": {},
   "outputs": [
    {
     "data": {
      "text/plain": [
       "1928"
      ]
     },
     "execution_count": 428,
     "metadata": {},
     "output_type": "execute_result"
    }
   ],
   "source": [
    "blocks_map =  disk_map_to_blocks(data)\n",
    "blocks_map = compactify_blocks(blocks_map)\n",
    "calculate_checksum(blocks_map)"
   ]
  },
  {
   "cell_type": "code",
   "execution_count": 429,
   "id": "bcb42969-4a0a-4354-b41a-5d6d64d40038",
   "metadata": {},
   "outputs": [],
   "source": [
    "# part 2 \n",
    "import pandas as pd\n",
    "from tqdm import tqdm"
   ]
  },
  {
   "cell_type": "code",
   "execution_count": 435,
   "id": "e2b0f896-fd60-4a72-8062-3d6ff2cda34c",
   "metadata": {},
   "outputs": [],
   "source": [
    "def calculate_free_map(blocks_map):\n",
    "    s = pd.to_numeric(pd.Series(blocks_map).replace({\".\":\"-1\"}))\n",
    "    s = s[s==-1].reset_index()\n",
    "    s['index_cum'] = (s['index'].diff()!=1).cumsum()-1\n",
    "    free_map = s.groupby('index_cum').agg({'index':\"first\", 0:\"count\"})\n",
    "    free_map.columns = [\"start_index\", \"size\"]\n",
    "    free_map.index.name = \"free_index\"\n",
    "    return free_map\n",
    "\n",
    "def group_file_map(blocks_map):\n",
    "    s = pd.to_numeric(pd.Series(blocks_map).replace({\".\":\"-1\"}))\n",
    "    s = s[s!=-1].reset_index()\n",
    "    s['index_cum'] = (s[0].diff()!=0).cumsum()-1\n",
    "    file_map = s.groupby('index_cum').agg({'index':\"first\", 0:\"count\"})\n",
    "    file_map.columns = [\"start_index\", \"size\"]\n",
    "    file_map.index.name = \"file_id\"\n",
    "    return file_map\n",
    "\n",
    "def compactify_all_blocks(blocks_map, file_map, free_map):\n",
    "    max_file_id = pd.to_numeric(pd.Series(blocks_map).replace({\".\":\"-1\"})).max()\n",
    "    for fid in tqdm(range(max_file_id, -1, -1)):\n",
    "        file_size = file_map.loc[fid, \"size\"]\n",
    "        file_index = file_map.loc[fid, \"start_index\"]\n",
    "        available_gaps = free_map.loc[(free_map['start_index']<file_index) & (free_map['size']>=file_size), :]\n",
    "        if len(available_gaps)>0:\n",
    "            new_index = available_gaps.iloc[0, :][\"start_index\"]\n",
    "            for i in range(file_size):\n",
    "                blocks_map[file_index+i] = '.'\n",
    "                blocks_map[new_index+i] = str(fid)\n",
    "        free_map = calculate_free_map(blocks_map)\n",
    "    return blocks_map\n",
    "    "
   ]
  },
  {
   "cell_type": "code",
   "execution_count": 436,
   "id": "a8a347c1-5686-4531-ab91-35868b28d351",
   "metadata": {},
   "outputs": [
    {
     "name": "stderr",
     "output_type": "stream",
     "text": [
      "100%|██████████████████████████████████████████| 10/10 [00:00<00:00, 275.19it/s]\n"
     ]
    },
    {
     "data": {
      "text/plain": [
       "2858"
      ]
     },
     "execution_count": 436,
     "metadata": {},
     "output_type": "execute_result"
    }
   ],
   "source": [
    "blocks_map =  disk_map_to_blocks(data)\n",
    "free_map = calculate_free_map(blocks_map)\n",
    "file_map = group_file_map(blocks_map)\n",
    "blocks_map = compactify_all_blocks(blocks_map, file_map, free_map)\n",
    "calculate_checksum(blocks_map)"
   ]
  },
  {
   "cell_type": "code",
   "execution_count": null,
   "id": "2e83517a-6467-43b7-9cad-46302d3644ee",
   "metadata": {},
   "outputs": [],
   "source": []
  }
 ],
 "metadata": {
  "kernelspec": {
   "display_name": "Python 3 (ipykernel)",
   "language": "python",
   "name": "python3"
  },
  "language_info": {
   "codemirror_mode": {
    "name": "ipython",
    "version": 3
   },
   "file_extension": ".py",
   "mimetype": "text/x-python",
   "name": "python",
   "nbconvert_exporter": "python",
   "pygments_lexer": "ipython3",
   "version": "3.8.12"
  }
 },
 "nbformat": 4,
 "nbformat_minor": 5
}
