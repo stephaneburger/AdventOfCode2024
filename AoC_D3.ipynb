{
 "cells": [
  {
   "cell_type": "code",
   "execution_count": 29,
   "id": "037265f2-3397-48d0-ae7b-f111edd8f4aa",
   "metadata": {},
   "outputs": [],
   "source": [
    "data = \"\"\"xmul(2,4)%&mul[3,7]!@^do_not_mul(5,5)+mul(32,64]then(mul(11,8)mul(8,5))\"\"\"\n",
    "data = \"\"\"xmul(2,4)&mul[3,7]!^don't()_mul(5,5)+mul(32,64](mul(11,8)undo()?mul(8,5))\"\"\""
   ]
  },
  {
   "cell_type": "code",
   "execution_count": 33,
   "id": "ff69cc70-7233-476b-a95f-21c6b2f8d288",
   "metadata": {},
   "outputs": [],
   "source": [
    "with open(\"AoC_D3_data.txt\", \"r\") as f:\n",
    "    data = f.read()"
   ]
  },
  {
   "cell_type": "code",
   "execution_count": 22,
   "id": "b4dad600-48c7-47b3-a117-893d7f71fea7",
   "metadata": {},
   "outputs": [
    {
     "data": {
      "text/plain": [
       "161"
      ]
     },
     "execution_count": 22,
     "metadata": {},
     "output_type": "execute_result"
    }
   ],
   "source": [
    "pos = 0\n",
    "value = 0\n",
    "while True:\n",
    "    if pos == len(data):\n",
    "        break\n",
    "    if data[pos:pos+4] == \"mul(\":\n",
    "        # print(data[pos], \"mul( detected\")\n",
    "        pos += 4\n",
    "        first_numb = \"\"\n",
    "        while data[pos].isdigit():\n",
    "            first_numb += data[pos]\n",
    "            pos +=1\n",
    "        if len(first_numb)>3:\n",
    "            continue\n",
    "        if data[pos] == \",\":\n",
    "            pos += 1\n",
    "            sec_numb = \"\"\n",
    "            while data[pos].isdigit():\n",
    "                sec_numb += data[pos]\n",
    "                pos +=1\n",
    "            if len(sec_numb)>3:\n",
    "                continue\n",
    "            if data[pos] == \")\":\n",
    "                value += int(first_numb)*int(sec_numb)\n",
    "            \n",
    "    else:\n",
    "        # print(data[pos], \"monving on\")\n",
    "        pos +=1\n",
    "        \n",
    "value"
   ]
  },
  {
   "cell_type": "code",
   "execution_count": 34,
   "id": "223ec599-701e-4a0b-853a-12c0caa1f90c",
   "metadata": {},
   "outputs": [
    {
     "data": {
      "text/plain": [
       "75920122"
      ]
     },
     "execution_count": 34,
     "metadata": {},
     "output_type": "execute_result"
    }
   ],
   "source": [
    "pos = 0\n",
    "value = 0\n",
    "do = 1\n",
    "while True:\n",
    "    # print(data[pos:pos+7])\n",
    "    if pos == len(data):\n",
    "        break\n",
    "    if data[pos:pos+7] == \"don't()\":\n",
    "        do = 0\n",
    "        pos += 7\n",
    "    if data[pos:pos+4] == \"do()\":\n",
    "        do = 1\n",
    "        pos += 4\n",
    "    if data[pos:pos+4] == \"mul(\":\n",
    "        # print(data[pos], \"mul( detected\")\n",
    "        pos += 4\n",
    "        first_numb = \"\"\n",
    "        while data[pos].isdigit():\n",
    "            first_numb += data[pos]\n",
    "            pos +=1\n",
    "        if len(first_numb)>3:\n",
    "            continue\n",
    "        if data[pos] == \",\":\n",
    "            pos += 1\n",
    "            sec_numb = \"\"\n",
    "            while data[pos].isdigit():\n",
    "                sec_numb += data[pos]\n",
    "                pos +=1\n",
    "            if len(sec_numb)>3:\n",
    "                continue\n",
    "            if data[pos] == \")\":\n",
    "                value += int(first_numb)*int(sec_numb)*do\n",
    "            \n",
    "    else:\n",
    "        # print(data[pos], \"monving on\")\n",
    "        pos +=1\n",
    "        \n",
    "value"
   ]
  },
  {
   "cell_type": "code",
   "execution_count": null,
   "id": "adcc0a44-a570-4a34-a96b-9d699c82936a",
   "metadata": {},
   "outputs": [],
   "source": []
  }
 ],
 "metadata": {
  "kernelspec": {
   "display_name": "Python 3 (ipykernel)",
   "language": "python",
   "name": "python3"
  },
  "language_info": {
   "codemirror_mode": {
    "name": "ipython",
    "version": 3
   },
   "file_extension": ".py",
   "mimetype": "text/x-python",
   "name": "python",
   "nbconvert_exporter": "python",
   "pygments_lexer": "ipython3",
   "version": "3.8.12"
  }
 },
 "nbformat": 4,
 "nbformat_minor": 5
}
