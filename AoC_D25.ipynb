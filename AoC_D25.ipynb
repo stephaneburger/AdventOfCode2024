{
 "cells": [
  {
   "cell_type": "code",
   "execution_count": 24,
   "id": "806359e6-5653-41be-8ff1-c463d811c514",
   "metadata": {},
   "outputs": [],
   "source": [
    "data = \"\"\"#####\n",
    ".####\n",
    ".####\n",
    ".####\n",
    ".#.#.\n",
    ".#...\n",
    ".....\n",
    "\n",
    "#####\n",
    "##.##\n",
    ".#.##\n",
    "...##\n",
    "...#.\n",
    "...#.\n",
    ".....\n",
    "\n",
    ".....\n",
    "#....\n",
    "#....\n",
    "#...#\n",
    "#.#.#\n",
    "#.###\n",
    "#####\n",
    "\n",
    ".....\n",
    ".....\n",
    "#.#..\n",
    "###..\n",
    "###.#\n",
    "###.#\n",
    "#####\n",
    "\n",
    ".....\n",
    ".....\n",
    ".....\n",
    "#....\n",
    "#.#..\n",
    "#.#.#\n",
    "#####\"\"\""
   ]
  },
  {
   "cell_type": "code",
   "execution_count": 21,
   "id": "f3eee310-bb7b-4c30-83b3-85188f81fa1d",
   "metadata": {},
   "outputs": [],
   "source": [
    "with open(\"AoC_D25_data.txt\", \"r\") as f:\n",
    "    data = f.read()"
   ]
  },
  {
   "cell_type": "code",
   "execution_count": 25,
   "id": "06cf078e-5d2e-4a0a-a582-eeacad5bc892",
   "metadata": {},
   "outputs": [
    {
     "data": {
      "text/plain": [
       "3"
      ]
     },
     "execution_count": 25,
     "metadata": {},
     "output_type": "execute_result"
    }
   ],
   "source": [
    "import pandas as pd\n",
    "keys_locks = [pd.DataFrame([list(l) for l in b.split(\"\\n\")]) for b in data.split(\"\\n\\n\")]\n",
    "keys = []\n",
    "locks = []\n",
    "for key_lock in keys_locks:\n",
    "    seq = ((key_lock==\"#\").sum()-1).tolist()\n",
    "    if (key_lock.loc[0, :]==\"#\").all():\n",
    "        locks.append(seq)\n",
    "    elif (key_lock.loc[0, :]==\".\").all():\n",
    "        keys.append(seq)\n",
    "    else:\n",
    "        raise\n",
    "\n",
    "compat = 0\n",
    "for key in keys:\n",
    "    for lock in locks:\n",
    "        if all([(i+j)<=5 for i,j in zip(key, lock)]):\n",
    "            compat+=1\n",
    "compat"
   ]
  }
 ],
 "metadata": {
  "kernelspec": {
   "display_name": "Python 3 (ipykernel)",
   "language": "python",
   "name": "python3"
  },
  "language_info": {
   "codemirror_mode": {
    "name": "ipython",
    "version": 3
   },
   "file_extension": ".py",
   "mimetype": "text/x-python",
   "name": "python",
   "nbconvert_exporter": "python",
   "pygments_lexer": "ipython3",
   "version": "3.8.12"
  }
 },
 "nbformat": 4,
 "nbformat_minor": 5
}
