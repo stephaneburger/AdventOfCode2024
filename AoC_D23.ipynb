{
 "cells": [
  {
   "cell_type": "code",
   "execution_count": 188,
   "id": "8f19d3d3-a8fc-45f4-a07d-1b25d4c5b172",
   "metadata": {},
   "outputs": [],
   "source": [
    "data = \"\"\"kh-tc\n",
    "qp-kh\n",
    "de-cg\n",
    "ka-co\n",
    "yn-aq\n",
    "qp-ub\n",
    "cg-tb\n",
    "vc-aq\n",
    "tb-ka\n",
    "wh-tc\n",
    "yn-cg\n",
    "kh-ub\n",
    "ta-co\n",
    "de-co\n",
    "tc-td\n",
    "tb-wq\n",
    "wh-td\n",
    "ta-ka\n",
    "td-qp\n",
    "aq-cg\n",
    "wq-ub\n",
    "ub-vc\n",
    "de-ta\n",
    "wq-aq\n",
    "wq-vc\n",
    "wh-yn\n",
    "ka-de\n",
    "kh-ta\n",
    "co-tc\n",
    "wh-qp\n",
    "tb-vc\n",
    "td-yn\"\"\""
   ]
  },
  {
   "cell_type": "code",
   "execution_count": 79,
   "id": "9e5faae9-37a5-4a65-a030-f0f3498daa6b",
   "metadata": {},
   "outputs": [],
   "source": [
    "with open(\"AoC_D23_data.txt\", \"r\") as f:\n",
    "    data = f.read()"
   ]
  },
  {
   "cell_type": "code",
   "execution_count": 189,
   "id": "1098a77f-ab4d-42cd-a1b6-fc437b63cb4a",
   "metadata": {},
   "outputs": [
    {
     "name": "stdout",
     "output_type": "stream",
     "text": [
      "32\n"
     ]
    },
    {
     "data": {
      "text/plain": [
       "[['kh', 'tc'], ['kh', 'qp'], ['cg', 'de'], ['co', 'ka'], ['aq', 'yn']]"
      ]
     },
     "execution_count": 189,
     "metadata": {},
     "output_type": "execute_result"
    }
   ],
   "source": [
    "connections = [sorted(l.split(\"-\")) for l in data.split(\"\\n\")]\n",
    "print(len(connections))\n",
    "connections[:5]"
   ]
  },
  {
   "cell_type": "code",
   "execution_count": 192,
   "id": "6c1f57f7-0d79-499f-b5de-cd0f9058424f",
   "metadata": {},
   "outputs": [
    {
     "name": "stderr",
     "output_type": "stream",
     "text": [
      "100%|█████████████████████████████████████████| 32/32 [00:00<00:00, 1732.45it/s]"
     ]
    },
    {
     "name": "stdout",
     "output_type": "stream",
     "text": [
      "7\n"
     ]
    },
    {
     "name": "stderr",
     "output_type": "stream",
     "text": [
      "\n"
     ]
    }
   ],
   "source": [
    "from tqdm import tqdm\n",
    "trios = []\n",
    "for c1 in tqdm(connections):\n",
    "    for c2 in connections:\n",
    "        # print(c1, c2)\n",
    "        if (sorted([c1[0], c2[0]]) in connections) & (sorted([c1[1], c2[0]]) in connections) & (sorted([c1[0], c1[1], c2[0]]) not in trios) :\n",
    "            l = [c1[0], c1[1], c2[0]]\n",
    "            trios.append(sorted([c1[0], c1[1], c2[0]]))\n",
    "        if (sorted([c1[0], c2[1]]) in connections) & (sorted([c1[1], c2[1]]) in connections) & (sorted([c1[0], c1[1], c2[1]]) not in trios) :\n",
    "            trios.append(sorted([c1[0], c1[1], c2[1]]))\n",
    "print(len([t for t in trios if any([c.startswith(\"t\") for c in t])]))"
   ]
  },
  {
   "cell_type": "code",
   "execution_count": null,
   "id": "87f5b32a-55c9-46da-a1ba-863aa2826a6d",
   "metadata": {},
   "outputs": [],
   "source": []
  },
  {
   "cell_type": "code",
   "execution_count": 196,
   "id": "5f9152f5-600d-4a87-a003-ee9a7407cc79",
   "metadata": {},
   "outputs": [],
   "source": [
    "#part 2\n",
    "import pandas as pd\n",
    "import matplotlib.pyplot as plt\n",
    "computers = list(set([item for row in connections for item in row]))\n",
    "lan_matrix = pd.DataFrame(index=computers, columns=computers, data=0)\n",
    "for c in connections:\n",
    "    lan_matrix.loc[c[0], c[1]] = 1\n",
    "    lan_matrix.loc[c[1], c[0]] = 1\n",
    "# lan_matrix\n",
    "# plt.figure(figsize=(5,5))\n",
    "# plt.pcolor(lan_matrix)"
   ]
  },
  {
   "cell_type": "code",
   "execution_count": 197,
   "id": "6bd7dc50-29a4-48cc-b7d0-33fa84d7f293",
   "metadata": {},
   "outputs": [],
   "source": [
    "seen = []\n",
    "lan_score = {}\n",
    "for c in computers[:]:\n",
    "    if c in seen:\n",
    "        continue\n",
    "    lan_condidate = sorted([c] + lan_matrix[c][lan_matrix[c]>0].index.tolist())\n",
    "    # print(lan_condidate, lan_matrix.loc[lan_condidate, lan_condidate].sum().sum())\n",
    "    lan_score[\",\".join(lan_condidate)] = lan_matrix.loc[lan_condidate, lan_condidate].sum().sum()\n",
    "    seen.extend(lan_condidate)"
   ]
  },
  {
   "cell_type": "code",
   "execution_count": 198,
   "id": "eaa67404-a2aa-4385-8827-b82556ef86b7",
   "metadata": {},
   "outputs": [
    {
     "data": {
      "text/plain": [
       "{'kh,qp,td,ub,wh': 12,\n",
       " 'aq,cg,td,wh,yn': 12,\n",
       " 'aq,tb,ub,vc,wq': 14,\n",
       " 'co,de,ka,ta,tc': 14}"
      ]
     },
     "execution_count": 198,
     "metadata": {},
     "output_type": "execute_result"
    }
   ],
   "source": [
    "dict(sorted(lan_score.items(), key=lambda item: item[1]))"
   ]
  },
  {
   "cell_type": "code",
   "execution_count": 199,
   "id": "3c7c1821-403b-4e2d-bfb1-6d57b7eb6854",
   "metadata": {},
   "outputs": [
    {
     "data": {
      "text/html": [
       "<div>\n",
       "<style scoped>\n",
       "    .dataframe tbody tr th:only-of-type {\n",
       "        vertical-align: middle;\n",
       "    }\n",
       "\n",
       "    .dataframe tbody tr th {\n",
       "        vertical-align: top;\n",
       "    }\n",
       "\n",
       "    .dataframe thead th {\n",
       "        text-align: right;\n",
       "    }\n",
       "</style>\n",
       "<table border=\"1\" class=\"dataframe\">\n",
       "  <thead>\n",
       "    <tr style=\"text-align: right;\">\n",
       "      <th></th>\n",
       "      <th>co</th>\n",
       "      <th>de</th>\n",
       "      <th>ka</th>\n",
       "      <th>ta</th>\n",
       "      <th>tc</th>\n",
       "    </tr>\n",
       "  </thead>\n",
       "  <tbody>\n",
       "    <tr>\n",
       "      <th>co</th>\n",
       "      <td>0</td>\n",
       "      <td>1</td>\n",
       "      <td>1</td>\n",
       "      <td>1</td>\n",
       "      <td>1</td>\n",
       "    </tr>\n",
       "    <tr>\n",
       "      <th>de</th>\n",
       "      <td>1</td>\n",
       "      <td>0</td>\n",
       "      <td>1</td>\n",
       "      <td>1</td>\n",
       "      <td>0</td>\n",
       "    </tr>\n",
       "    <tr>\n",
       "      <th>ka</th>\n",
       "      <td>1</td>\n",
       "      <td>1</td>\n",
       "      <td>0</td>\n",
       "      <td>1</td>\n",
       "      <td>0</td>\n",
       "    </tr>\n",
       "    <tr>\n",
       "      <th>ta</th>\n",
       "      <td>1</td>\n",
       "      <td>1</td>\n",
       "      <td>1</td>\n",
       "      <td>0</td>\n",
       "      <td>0</td>\n",
       "    </tr>\n",
       "    <tr>\n",
       "      <th>tc</th>\n",
       "      <td>1</td>\n",
       "      <td>0</td>\n",
       "      <td>0</td>\n",
       "      <td>0</td>\n",
       "      <td>0</td>\n",
       "    </tr>\n",
       "  </tbody>\n",
       "</table>\n",
       "</div>"
      ],
      "text/plain": [
       "    co  de  ka  ta  tc\n",
       "co   0   1   1   1   1\n",
       "de   1   0   1   1   0\n",
       "ka   1   1   0   1   0\n",
       "ta   1   1   1   0   0\n",
       "tc   1   0   0   0   0"
      ]
     },
     "execution_count": 199,
     "metadata": {},
     "output_type": "execute_result"
    }
   ],
   "source": [
    "lan4 = sorted(list(set('co,de,ka,ta,tc'.split(','))))\n",
    "lan_matrix.loc[lan4, lan4]"
   ]
  },
  {
   "cell_type": "code",
   "execution_count": 200,
   "id": "4bec19ae-4b7b-4fcd-81a2-a8c6a1cb7744",
   "metadata": {},
   "outputs": [
    {
     "data": {
      "text/html": [
       "<div>\n",
       "<style scoped>\n",
       "    .dataframe tbody tr th:only-of-type {\n",
       "        vertical-align: middle;\n",
       "    }\n",
       "\n",
       "    .dataframe tbody tr th {\n",
       "        vertical-align: top;\n",
       "    }\n",
       "\n",
       "    .dataframe thead th {\n",
       "        text-align: right;\n",
       "    }\n",
       "</style>\n",
       "<table border=\"1\" class=\"dataframe\">\n",
       "  <thead>\n",
       "    <tr style=\"text-align: right;\">\n",
       "      <th></th>\n",
       "      <th>aq</th>\n",
       "      <th>tb</th>\n",
       "      <th>ub</th>\n",
       "      <th>vc</th>\n",
       "      <th>wq</th>\n",
       "    </tr>\n",
       "  </thead>\n",
       "  <tbody>\n",
       "    <tr>\n",
       "      <th>aq</th>\n",
       "      <td>0</td>\n",
       "      <td>0</td>\n",
       "      <td>0</td>\n",
       "      <td>1</td>\n",
       "      <td>1</td>\n",
       "    </tr>\n",
       "    <tr>\n",
       "      <th>tb</th>\n",
       "      <td>0</td>\n",
       "      <td>0</td>\n",
       "      <td>0</td>\n",
       "      <td>1</td>\n",
       "      <td>1</td>\n",
       "    </tr>\n",
       "    <tr>\n",
       "      <th>ub</th>\n",
       "      <td>0</td>\n",
       "      <td>0</td>\n",
       "      <td>0</td>\n",
       "      <td>1</td>\n",
       "      <td>1</td>\n",
       "    </tr>\n",
       "    <tr>\n",
       "      <th>vc</th>\n",
       "      <td>1</td>\n",
       "      <td>1</td>\n",
       "      <td>1</td>\n",
       "      <td>0</td>\n",
       "      <td>1</td>\n",
       "    </tr>\n",
       "    <tr>\n",
       "      <th>wq</th>\n",
       "      <td>1</td>\n",
       "      <td>1</td>\n",
       "      <td>1</td>\n",
       "      <td>1</td>\n",
       "      <td>0</td>\n",
       "    </tr>\n",
       "  </tbody>\n",
       "</table>\n",
       "</div>"
      ],
      "text/plain": [
       "    aq  tb  ub  vc  wq\n",
       "aq   0   0   0   1   1\n",
       "tb   0   0   0   1   1\n",
       "ub   0   0   0   1   1\n",
       "vc   1   1   1   0   1\n",
       "wq   1   1   1   1   0"
      ]
     },
     "execution_count": 200,
     "metadata": {},
     "output_type": "execute_result"
    }
   ],
   "source": [
    "lan4 = sorted(list(set('aq,tb,ub,vc,wq'.split(','))))\n",
    "lan_matrix.loc[lan4, lan4]"
   ]
  },
  {
   "cell_type": "code",
   "execution_count": null,
   "id": "135a93cb-5ceb-47f7-bbf9-e539313783f2",
   "metadata": {},
   "outputs": [],
   "source": [
    "# xxxxxxxxx: er,fh,fi,ir,kk,lo,lp,qi,ti,vb,xf,ys,yu"
   ]
  }
 ],
 "metadata": {
  "kernelspec": {
   "display_name": "Python 3 (ipykernel)",
   "language": "python",
   "name": "python3"
  },
  "language_info": {
   "codemirror_mode": {
    "name": "ipython",
    "version": 3
   },
   "file_extension": ".py",
   "mimetype": "text/x-python",
   "name": "python",
   "nbconvert_exporter": "python",
   "pygments_lexer": "ipython3",
   "version": "3.8.12"
  }
 },
 "nbformat": 4,
 "nbformat_minor": 5
}
