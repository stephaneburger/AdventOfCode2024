{
 "cells": [
  {
   "cell_type": "code",
   "execution_count": 178,
   "id": "ebb0f46c-3982-4b92-8588-c1d62e7e5d3a",
   "metadata": {},
   "outputs": [],
   "source": [
    "data = \"\"\"Button A: X+94, Y+34\n",
    "Button B: X+22, Y+67\n",
    "Prize: X=8400, Y=5400\n",
    "\n",
    "Button A: X+26, Y+66\n",
    "Button B: X+67, Y+21\n",
    "Prize: X=12748, Y=12176\n",
    "\n",
    "Button A: X+17, Y+86\n",
    "Button B: X+84, Y+37\n",
    "Prize: X=7870, Y=6450\n",
    "\n",
    "Button A: X+69, Y+23\n",
    "Button B: X+27, Y+71\n",
    "Prize: X=18641, Y=10279\"\"\""
   ]
  },
  {
   "cell_type": "code",
   "execution_count": 181,
   "id": "5a610817-b96e-470e-8953-70f2d8da7820",
   "metadata": {},
   "outputs": [],
   "source": [
    "with open(\"AoC_D13_data.txt\", \"r\") as f:\n",
    "    data = f.read()"
   ]
  },
  {
   "cell_type": "code",
   "execution_count": null,
   "id": "b5f0e082-6911-4f90-bef4-12e2b598326e",
   "metadata": {},
   "outputs": [],
   "source": [
    "\n"
   ]
  },
  {
   "cell_type": "code",
   "execution_count": 182,
   "id": "e7931f70-dd87-4e87-957d-7444322c89ab",
   "metadata": {},
   "outputs": [],
   "source": [
    "def parse_data(data):\n",
    "    data_split = [machine.split(\"\\n\") for machine in data.split(\"\\n\\n\")]\n",
    "    machines= []\n",
    "    for block in data_split:\n",
    "        machine = {}\n",
    "        A = block[0]\n",
    "        B = block[1]\n",
    "        P = block[2]\n",
    "        machine[\"A\"] = (int(A[12:A.find(\",\")]), int(A[A.find(\",\")+3:]))\n",
    "        machine[\"B\"] = (int(B[12:B.find(\",\")]), int(B[B.find(\",\")+3:]))\n",
    "        machine[\"prize\"] = (int(P[9:P.find(\",\")]), int(P[P.find(\",\")+4:]))\n",
    "        machines.append(machine)\n",
    "    return machines\n",
    "\n",
    "def solve(data, part):\n",
    "    machines = parse_data(data)\n",
    "    tokens = 0\n",
    "    for machine in machines:\n",
    "        a = machine[\"A\"]\n",
    "        b = machine[\"B\"]\n",
    "        p = machine[\"prize\"]\n",
    "        if part == 2:\n",
    "            p = (p[0]+10000000000000, p[1]+10000000000000)\n",
    "        Bc = (a[0]*p[1]-a[1]*p[0])/(a[0]*b[1]-a[1]*b[0])\n",
    "        Ac = (p[0]-Bc*b[0])/a[0]\n",
    "        if Ac.is_integer() & (Ac >= 0) & Bc.is_integer()& (Bc >=0):\n",
    "            tokens += Ac*3 + Bc\n",
    "    return int(tokens)"
   ]
  },
  {
   "cell_type": "code",
   "execution_count": 183,
   "id": "4db95b9b-8ef4-4ac3-8a70-808591193c06",
   "metadata": {},
   "outputs": [
    {
     "ename": "AttributeError",
     "evalue": "'list' object has no attribute 'split'",
     "output_type": "error",
     "traceback": [
      "\u001b[0;31m---------------------------------------------------------------------------\u001b[0m",
      "\u001b[0;31mAttributeError\u001b[0m                            Traceback (most recent call last)",
      "Cell \u001b[0;32mIn[183], line 1\u001b[0m\n\u001b[0;32m----> 1\u001b[0m \u001b[43msolve\u001b[49m\u001b[43m(\u001b[49m\u001b[43mmachines\u001b[49m\u001b[43m,\u001b[49m\u001b[43m \u001b[49m\u001b[38;5;241;43m1\u001b[39;49m\u001b[43m)\u001b[49m, solve(machines, \u001b[38;5;241m2\u001b[39m)\n",
      "Cell \u001b[0;32mIn[182], line 16\u001b[0m, in \u001b[0;36msolve\u001b[0;34m(data, part)\u001b[0m\n\u001b[1;32m     15\u001b[0m \u001b[38;5;28;01mdef\u001b[39;00m \u001b[38;5;21msolve\u001b[39m(data, part):\n\u001b[0;32m---> 16\u001b[0m     machines \u001b[38;5;241m=\u001b[39m \u001b[43mparse_data\u001b[49m\u001b[43m(\u001b[49m\u001b[43mdata\u001b[49m\u001b[43m)\u001b[49m\n\u001b[1;32m     17\u001b[0m     tokens \u001b[38;5;241m=\u001b[39m \u001b[38;5;241m0\u001b[39m\n\u001b[1;32m     18\u001b[0m     \u001b[38;5;28;01mfor\u001b[39;00m machine \u001b[38;5;129;01min\u001b[39;00m machines:\n",
      "Cell \u001b[0;32mIn[182], line 2\u001b[0m, in \u001b[0;36mparse_data\u001b[0;34m(data)\u001b[0m\n\u001b[1;32m      1\u001b[0m \u001b[38;5;28;01mdef\u001b[39;00m \u001b[38;5;21mparse_data\u001b[39m(data):\n\u001b[0;32m----> 2\u001b[0m     data_split \u001b[38;5;241m=\u001b[39m [machine\u001b[38;5;241m.\u001b[39msplit(\u001b[38;5;124m\"\u001b[39m\u001b[38;5;130;01m\\n\u001b[39;00m\u001b[38;5;124m\"\u001b[39m) \u001b[38;5;28;01mfor\u001b[39;00m machine \u001b[38;5;129;01min\u001b[39;00m \u001b[43mdata\u001b[49m\u001b[38;5;241;43m.\u001b[39;49m\u001b[43msplit\u001b[49m(\u001b[38;5;124m\"\u001b[39m\u001b[38;5;130;01m\\n\u001b[39;00m\u001b[38;5;130;01m\\n\u001b[39;00m\u001b[38;5;124m\"\u001b[39m)]\n\u001b[1;32m      3\u001b[0m     machines\u001b[38;5;241m=\u001b[39m []\n\u001b[1;32m      4\u001b[0m     \u001b[38;5;28;01mfor\u001b[39;00m block \u001b[38;5;129;01min\u001b[39;00m data_split:\n",
      "\u001b[0;31mAttributeError\u001b[0m: 'list' object has no attribute 'split'"
     ]
    }
   ],
   "source": [
    "solve(machines, 1), solve(machines, 2)"
   ]
  },
  {
   "cell_type": "code",
   "execution_count": null,
   "id": "5484186e-1de3-44ba-81eb-05ab9b3ed2e0",
   "metadata": {},
   "outputs": [],
   "source": []
  }
 ],
 "metadata": {
  "kernelspec": {
   "display_name": "Python 3 (ipykernel)",
   "language": "python",
   "name": "python3"
  },
  "language_info": {
   "codemirror_mode": {
    "name": "ipython",
    "version": 3
   },
   "file_extension": ".py",
   "mimetype": "text/x-python",
   "name": "python",
   "nbconvert_exporter": "python",
   "pygments_lexer": "ipython3",
   "version": "3.8.12"
  }
 },
 "nbformat": 4,
 "nbformat_minor": 5
}
