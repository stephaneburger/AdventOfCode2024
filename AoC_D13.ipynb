{
 "cells": [
  {
   "cell_type": "code",
   "execution_count": 113,
   "id": "ebb0f46c-3982-4b92-8588-c1d62e7e5d3a",
   "metadata": {},
   "outputs": [],
   "source": [
    "data = \"\"\"Button A: X+94, Y+34\n",
    "Button B: X+22, Y+67\n",
    "Prize: X=8400, Y=5400\n",
    "\n",
    "Button A: X+26, Y+66\n",
    "Button B: X+67, Y+21\n",
    "Prize: X=12748, Y=12176\n",
    "\n",
    "Button A: X+17, Y+86\n",
    "Button B: X+84, Y+37\n",
    "Prize: X=7870, Y=6450\n",
    "\n",
    "Button A: X+69, Y+23\n",
    "Button B: X+27, Y+71\n",
    "Prize: X=18641, Y=10279\"\"\""
   ]
  },
  {
   "cell_type": "code",
   "execution_count": 72,
   "id": "5a610817-b96e-470e-8953-70f2d8da7820",
   "metadata": {},
   "outputs": [],
   "source": [
    "with open(\"AoC_D13_data.txt\", \"r\") as f:\n",
    "    data = f.read()"
   ]
  },
  {
   "cell_type": "code",
   "execution_count": 114,
   "id": "b5f0e082-6911-4f90-bef4-12e2b598326e",
   "metadata": {},
   "outputs": [],
   "source": [
    "data_split = [machine.split(\"\\n\") for machine in data.split(\"\\n\\n\")]\n",
    "machines= []\n",
    "for block in data_split:\n",
    "    machine = {}\n",
    "    A = block[0]\n",
    "    B = block[1]\n",
    "    P = block[2]\n",
    "    machine[\"A\"] = (int(A[12:A.find(\",\")]), int(A[A.find(\",\")+3:]))\n",
    "    machine[\"B\"] = (int(B[12:B.find(\",\")]), int(B[B.find(\",\")+3:]))\n",
    "    machine[\"prize\"] = (int(P[9:P.find(\",\")]), int(P[P.find(\",\")+4:]))\n",
    "    # machine[\"B\"] = \n",
    "    machines.append(machine)\n",
    "# machines"
   ]
  },
  {
   "cell_type": "code",
   "execution_count": 115,
   "id": "e7931f70-dd87-4e87-957d-7444322c89ab",
   "metadata": {},
   "outputs": [
    {
     "data": {
      "text/plain": [
       "480"
      ]
     },
     "execution_count": 115,
     "metadata": {},
     "output_type": "execute_result"
    }
   ],
   "source": [
    "tokens = 0\n",
    "for machine in machines:\n",
    "    a = machine[\"A\"]\n",
    "    b = machine[\"B\"]\n",
    "    p = machine[\"prize\"]\n",
    "    Bc = (p[1]-a[1]*p[0]/a[0])/(b[1]-a[1]*b[0]/a[0])\n",
    "    Ac = (p[0]-Bc*b[0])/a[0]\n",
    "    if (0.9999<int(round(Ac, 5))/Ac<1.00001) & (0.9999<int(round(Bc, 5))/Bc<1.00001):\n",
    "        tokens += int(round(Ac, 5))*3 + int(round(Bc, 5))\n",
    "tokens"
   ]
  },
  {
   "cell_type": "code",
   "execution_count": 117,
   "id": "4c3c6621-779e-4e07-a679-585933308d6a",
   "metadata": {},
   "outputs": [
    {
     "data": {
      "text/plain": [
       "875318608908"
      ]
     },
     "execution_count": 117,
     "metadata": {},
     "output_type": "execute_result"
    }
   ],
   "source": [
    "from decimal import Decimal, getcontext\n",
    "getcontext().prec = 500\n",
    "\n",
    "tokens = 0\n",
    "for machine in machines:\n",
    "    a = machine[\"A\"]\n",
    "    b = machine[\"B\"]\n",
    "    p = machine[\"prize\"]\n",
    "    a = (Decimal(str(a[0])), Decimal(str(a[1])))\n",
    "    b = (Decimal(str(b[0])), Decimal(str(b[1])))\n",
    "    p = (Decimal(str(p[0]+10000000000000)), Decimal(str(p[1]+10000000000000)))\n",
    "    Bc = (p[1]-a[1]*p[0]/a[0])/(b[1]-a[1]*b[0]/a[0])\n",
    "    Ac = (p[0]-Bc*b[0])/a[0]\n",
    "    if (Decimal(\"0.99999999999999999999999999999999999999999999\")<int(round(Ac, 40))/Ac<Decimal(\"1.000000000000000000000000000000000000000000001\")) & (Decimal(\"0.99999999999999999999999999999999999999999999\")<int(round(Bc, 40))/Bc<Decimal(\"1.000000000000000000000000000000000000000000001\")):\n",
    "        tokens += int(round(Ac, 12))*3 + int(round(Bc, 12))\n",
    "tokens"
   ]
  },
  {
   "cell_type": "code",
   "execution_count": null,
   "id": "57dc56a4-487b-455a-8629-f2ec3dd456a9",
   "metadata": {},
   "outputs": [],
   "source": []
  }
 ],
 "metadata": {
  "kernelspec": {
   "display_name": "Python 3 (ipykernel)",
   "language": "python",
   "name": "python3"
  },
  "language_info": {
   "codemirror_mode": {
    "name": "ipython",
    "version": 3
   },
   "file_extension": ".py",
   "mimetype": "text/x-python",
   "name": "python",
   "nbconvert_exporter": "python",
   "pygments_lexer": "ipython3",
   "version": "3.8.12"
  }
 },
 "nbformat": 4,
 "nbformat_minor": 5
}
