{
 "cells": [
  {
   "cell_type": "code",
   "execution_count": 8,
   "id": "4472328a-c98f-4f8a-823a-5eaccf1b2cf7",
   "metadata": {},
   "outputs": [],
   "source": [
    "data = \"\"\"r, wr, b, g, bwu, rb, gb, br\n",
    "\n",
    "brwrr\n",
    "bggr\n",
    "gbbr\n",
    "rrbgbr\n",
    "ubwu\n",
    "bwurrg\n",
    "brgr\n",
    "bbrgwb\"\"\""
   ]
  },
  {
   "cell_type": "code",
   "execution_count": null,
   "id": "8939fa08-6b24-42ce-b6e2-713fae4eca34",
   "metadata": {},
   "outputs": [],
   "source": [
    "with open(\"AoC_D19_data.txt\", \"r\") as f:\n",
    "    data = f.read()"
   ]
  },
  {
   "cell_type": "code",
   "execution_count": 9,
   "id": "196c10ab-3fab-41a4-a30c-e20813f6b036",
   "metadata": {},
   "outputs": [
    {
     "data": {
      "text/plain": [
       "(['r', 'wr', 'b', 'g', 'bwu', 'rb', 'gb', 'br'],\n",
       " ['brwrr', 'bggr', 'gbbr', 'rrbgbr', 'ubwu', 'bwurrg', 'brgr', 'bbrgwb'])"
      ]
     },
     "execution_count": 9,
     "metadata": {},
     "output_type": "execute_result"
    }
   ],
   "source": [
    "towels = data.split(\"\\n\\n\")[0].split(', ')\n",
    "designs = data.split(\"\\n\\n\")[1].split(\"\\n\")\n",
    "towels, designs"
   ]
  },
  {
   "cell_type": "code",
   "execution_count": 10,
   "id": "a477974b-9d1f-4943-8413-0f5e5871a44c",
   "metadata": {},
   "outputs": [
    {
     "data": {
      "text/plain": [
       "array(['r', 'w', 'b', 'g', 'u'], dtype=object)"
      ]
     },
     "execution_count": 10,
     "metadata": {},
     "output_type": "execute_result"
    }
   ],
   "source": [
    "import pandas as pd\n",
    "s = pd.Series(list(\"\".join(towels))).unique()\n",
    "s"
   ]
  },
  {
   "cell_type": "code",
   "execution_count": 61,
   "id": "e94fd506-4968-483d-8a8e-7436d0707fdb",
   "metadata": {},
   "outputs": [],
   "source": [
    "### BROKEN BELOW"
   ]
  },
  {
   "cell_type": "code",
   "execution_count": 53,
   "id": "faaf40eb-b221-42f0-94b1-8d4902a95294",
   "metadata": {},
   "outputs": [],
   "source": [
    "def search_1(towels, remaining_design, done):\n",
    "    assert not done\n",
    "    if remaining_design == \"\":\n",
    "        done =  True\n",
    "    else:\n",
    "        added_t = []\n",
    "        for towel in towels:\n",
    "            if remaining_design.startswith(towel):\n",
    "                added_t.appen(towel)\n",
    "                done = search(towels, remaining_design[len(towel):], done)\n",
    "        return False\n",
    "        "
   ]
  },
  {
   "cell_type": "code",
   "execution_count": 60,
   "id": "f97d6651-3a62-4130-818d-6e94eab348d9",
   "metadata": {},
   "outputs": [
    {
     "data": {
      "text/plain": [
       "0"
      ]
     },
     "execution_count": 60,
     "metadata": {},
     "output_type": "execute_result"
    }
   ],
   "source": [
    "# global possible  \n",
    "# global done\n",
    "possible = 0 \n",
    "for design in designs:\n",
    "    # global done\n",
    "    done = False\n",
    "    try:\n",
    "        # global done\n",
    "        done = search_1(towels, design, done)\n",
    "    except:\n",
    "        print(\"####\", design, \"possible\")\n",
    "        possible +=1\n",
    "possible"
   ]
  },
  {
   "cell_type": "code",
   "execution_count": 41,
   "id": "d1e0e5a4-c557-442e-8089-b951d0b9f693",
   "metadata": {},
   "outputs": [],
   "source": [
    "# global this_config\n",
    "# this_config = []\n",
    "\n",
    "# def search(towels, remaining_design):\n",
    "#     if remaining_design == \"\":\n",
    "#         global possible\n",
    "#         print(\"DONE\")\n",
    "#         possible +=1\n",
    "#         global elements\n",
    "#         global this_config\n",
    "#         elements.add(\",\".join(this_config))\n",
    "#         this_config = []\n",
    "#     else:\n",
    "#         for towel in towels:\n",
    "#             if remaining_design.startswith(towel):\n",
    "#                 this_config.append(towel)\n",
    "#                 # print(remaining_design, towel)\n",
    "#                 search(towels, remaining_design[len(towel):])"
   ]
  },
  {
   "cell_type": "code",
   "execution_count": null,
   "id": "a9d7ca1e-d446-4234-9c74-b581fcb55ee5",
   "metadata": {},
   "outputs": [],
   "source": [
    "with open(\"AoC_D19_data.txt\", \"r\") as f:\n",
    "    data = f.read()"
   ]
  },
  {
   "cell_type": "code",
   "execution_count": null,
   "id": "82031c6b-b896-42b8-adb5-c17a77d3f58e",
   "metadata": {},
   "outputs": [],
   "source": [
    "# Part 2\n",
    "from tqdm import tqdm\n",
    "possible_designs = 0\n",
    "for design in tqdm(designs):\n",
    "    print(\"####\", design)\n",
    "    global possible\n",
    "    possible = 0\n",
    "    global elements\n",
    "    elements = set()\n",
    "    global this_config\n",
    "    this_config = []\n",
    "    search([t for t in towels if t!= design], towel)\n",
    "    if possible > 0:\n",
    "        possible_designs +=possible\n",
    "    print(elements)\n",
    "possible_designs"
   ]
  },
  {
   "cell_type": "code",
   "execution_count": null,
   "id": "e46e0276-a17a-4c73-b5f9-8693d3e2a040",
   "metadata": {},
   "outputs": [],
   "source": [
    "global possible\n",
    "possible = 0\n",
    "global done\n",
    "done = False\n",
    "search(towels, \"gbbr\")\n",
    "possible"
   ]
  },
  {
   "cell_type": "code",
   "execution_count": null,
   "id": "a3f29a4d-57cb-45be-8ee7-e47ce1621d68",
   "metadata": {},
   "outputs": [],
   "source": [
    "\n",
    "        "
   ]
  },
  {
   "cell_type": "code",
   "execution_count": null,
   "id": "856e6b05-3938-4310-97bf-f41cc2b61618",
   "metadata": {},
   "outputs": [],
   "source": []
  },
  {
   "cell_type": "code",
   "execution_count": null,
   "id": "6bc2f9cb-7852-4962-9781-ac023f6dab92",
   "metadata": {},
   "outputs": [],
   "source": [
    "len(towels)"
   ]
  },
  {
   "cell_type": "code",
   "execution_count": null,
   "id": "c23c02f7-ca17-4f83-a2c3-beb681258732",
   "metadata": {},
   "outputs": [],
   "source": [
    "{bt:[st for st in towels if bt.startswith(st) & (len(bt)>len(st))] for bt in towels if any([bt.startswith(st) & (len(bt)>len(st)) for st in towels])}"
   ]
  },
  {
   "cell_type": "code",
   "execution_count": null,
   "id": "f51e9c93-6a6e-4be1-b659-03fd5c1ce863",
   "metadata": {},
   "outputs": [],
   "source": []
  }
 ],
 "metadata": {
  "kernelspec": {
   "display_name": "Python 3 (ipykernel)",
   "language": "python",
   "name": "python3"
  },
  "language_info": {
   "codemirror_mode": {
    "name": "ipython",
    "version": 3
   },
   "file_extension": ".py",
   "mimetype": "text/x-python",
   "name": "python",
   "nbconvert_exporter": "python",
   "pygments_lexer": "ipython3",
   "version": "3.8.12"
  }
 },
 "nbformat": 4,
 "nbformat_minor": 5
}
