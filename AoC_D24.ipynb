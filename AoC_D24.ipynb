{
 "cells": [
  {
   "cell_type": "code",
   "execution_count": 126,
   "id": "f99c7a16-e459-473c-bc07-59d54b8421d1",
   "metadata": {},
   "outputs": [],
   "source": [
    "data = \"\"\"x00: 1\n",
    "x01: 0\n",
    "x02: 1\n",
    "x03: 1\n",
    "x04: 0\n",
    "y00: 1\n",
    "y01: 1\n",
    "y02: 1\n",
    "y03: 1\n",
    "y04: 1\n",
    "\n",
    "ntg XOR fgs -> mjb\n",
    "y02 OR x01 -> tnw\n",
    "kwq OR kpj -> z05\n",
    "x00 OR x03 -> fst\n",
    "tgd XOR rvg -> z01\n",
    "vdt OR tnw -> bfw\n",
    "bfw AND frj -> z10\n",
    "ffh OR nrd -> bqk\n",
    "y00 AND y03 -> djm\n",
    "y03 OR y00 -> psh\n",
    "bqk OR frj -> z08\n",
    "tnw OR fst -> frj\n",
    "gnj AND tgd -> z11\n",
    "bfw XOR mjb -> z00\n",
    "x03 OR x00 -> vdt\n",
    "gnj AND wpb -> z02\n",
    "x04 AND y00 -> kjc\n",
    "djm OR pbm -> qhw\n",
    "nrd AND vdt -> hwm\n",
    "kjc AND fst -> rvg\n",
    "y04 OR y02 -> fgs\n",
    "y01 AND x02 -> pbm\n",
    "ntg OR kjc -> kwq\n",
    "psh XOR fgs -> tgd\n",
    "qhw XOR tgd -> z09\n",
    "pbm OR djm -> kpj\n",
    "x03 XOR y03 -> ffh\n",
    "x00 XOR y04 -> ntg\n",
    "bfw OR bqk -> z06\n",
    "nrd XOR fgs -> wpb\n",
    "frj XOR qhw -> z04\n",
    "bqk OR frj -> z07\n",
    "y03 OR x01 -> nrd\n",
    "hwm AND bqk -> z03\n",
    "tgd XOR rvg -> z12\n",
    "tnw OR pbm -> gnj\"\"\""
   ]
  },
  {
   "cell_type": "code",
   "execution_count": 127,
   "id": "d4834c9e-df08-4c51-9522-0b5e8e699785",
   "metadata": {},
   "outputs": [],
   "source": [
    "with open(\"AoC_D24_data.txt\", \"r\") as f:\n",
    "    data = f.read()"
   ]
  },
  {
   "cell_type": "code",
   "execution_count": 128,
   "id": "ac227901-ad86-45a0-ac19-baec4ad5ef27",
   "metadata": {},
   "outputs": [
    {
     "name": "stdout",
     "output_type": "stream",
     "text": [
      "{'x00': 1, 'x01': 1, 'x02': 0, 'x03': 0, 'x04': 0, 'x05': 1, 'x06': 0, 'x07': 1, 'x08': 1, 'x09': 0, 'x10': 1, 'x11': 0, 'x12': 0, 'x13': 0, 'x14': 1, 'x15': 1, 'x16': 1, 'x17': 0, 'x18': 1, 'x19': 1, 'x20': 0, 'x21': 0, 'x22': 0, 'x23': 0, 'x24': 1, 'x25': 1, 'x26': 0, 'x27': 0, 'x28': 1, 'x29': 1, 'x30': 0, 'x31': 1, 'x32': 0, 'x33': 0, 'x34': 1, 'x35': 1, 'x36': 0, 'x37': 0, 'x38': 0, 'x39': 0, 'x40': 0, 'x41': 0, 'x42': 0, 'x43': 1, 'x44': 1, 'y00': 1, 'y01': 0, 'y02': 1, 'y03': 1, 'y04': 0, 'y05': 0, 'y06': 1, 'y07': 1, 'y08': 0, 'y09': 1, 'y10': 1, 'y11': 1, 'y12': 1, 'y13': 0, 'y14': 1, 'y15': 0, 'y16': 0, 'y17': 1, 'y18': 1, 'y19': 0, 'y20': 1, 'y21': 1, 'y22': 1, 'y23': 1, 'y24': 0, 'y25': 0, 'y26': 0, 'y27': 0, 'y28': 1, 'y29': 1, 'y30': 0, 'y31': 1, 'y32': 1, 'y33': 0, 'y34': 0, 'y35': 1, 'y36': 0, 'y37': 0, 'y38': 0, 'y39': 1, 'y40': 0, 'y41': 0, 'y42': 1, 'y43': 0, 'y44': 1}\n"
     ]
    }
   ],
   "source": [
    "layer0 = {l.split(\": \")[0]:int(l.split(\": \")[1]) for l in data.split(\"\\n\\n\")[0].split(\"\\n\")}\n",
    "gates = {l.split(\" \")[4]:{\"in\":[l.split(\" \")[0], l.split(\" \")[2]], \"op\":l.split(\" \")[1]} for l in  data.split(\"\\n\\n\")[1].split(\"\\n\")}\n",
    "print(layer0)"
   ]
  },
  {
   "cell_type": "code",
   "execution_count": 146,
   "id": "1e66d04e-cf5d-45e7-93a3-c92c28e45256",
   "metadata": {},
   "outputs": [
    {
     "data": {
      "text/plain": [
       "49574189473968"
      ]
     },
     "execution_count": 146,
     "metadata": {},
     "output_type": "execute_result"
    }
   ],
   "source": [
    "def run_gate(gate, inputs):\n",
    "    if gate['op'] == \"OR\":\n",
    "        return int((inputs[0] == 1) | (inputs[1] == 1))\n",
    "    elif gate['op'] == \"AND\":\n",
    "        return int((inputs[0] == 1) & (inputs[1] == 1))\n",
    "    elif gate['op'] == \"XOR\":\n",
    "        return int((inputs[0] == 1) ^ (inputs[1] == 1))\n",
    "\n",
    "def run_calculation(layer0, gates):\n",
    "    activated_layers = layer0.copy()\n",
    "    gate_activated = set()\n",
    "    len_gate_activated = -1\n",
    "    # while len(gates)>len(gate_activated):\n",
    "    while len(gate_activated) > len_gate_activated:\n",
    "        len_gate_activated = len(gate_activated)\n",
    "        for out, g in gates.items():\n",
    "            if (g['in'][0] in activated_layers.keys()) &(g['in'][1] in activated_layers.keys()):\n",
    "                activated_layers[out] = run_gate(g, [activated_layers[g['in'][0]],activated_layers[g['in'][1]]])\n",
    "                gate_activated.add(out)\n",
    "    if len(gates)>len(gate_activated):\n",
    "        return None, None\n",
    "    return int(\"\".join([str(activated_layers[k]) for k in sorted({k:v for k, v in activated_layers.items() if k.startswith('z')}.keys(), reverse=True)]), 2), activated_layers\n",
    "res, activated_layers = run_calculation(layer0, gates)\n",
    "res"
   ]
  },
  {
   "cell_type": "code",
   "execution_count": null,
   "id": "783c9ab8-23af-46f7-b9f1-241af8bcc861",
   "metadata": {},
   "outputs": [],
   "source": []
  },
  {
   "cell_type": "code",
   "execution_count": 147,
   "id": "738d095e-152e-40c3-967b-2610f4df5042",
   "metadata": {},
   "outputs": [
    {
     "data": {
      "text/plain": [
       "52885645396806"
      ]
     },
     "execution_count": 147,
     "metadata": {},
     "output_type": "execute_result"
    }
   ],
   "source": [
    "X = int(\"\".join([str(activated_layers[k]) for k in sorted({k:v for k, v in activated_layers.items() if k.startswith('x')}.keys(), reverse=True)]), 2)\n",
    "Y = int(\"\".join([str(activated_layers[k]) for k in sorted({k:v for k, v in activated_layers.items() if k.startswith('x')}.keys(), reverse=True)]), 2)\n",
    "true_result = X+Y\n",
    "true_result"
   ]
  },
  {
   "cell_type": "code",
   "execution_count": 148,
   "id": "8aed7d70-7b1b-46f2-8903-b546a5a1fa07",
   "metadata": {},
   "outputs": [
    {
     "data": {
      "text/plain": [
       "31950361308150"
      ]
     },
     "execution_count": 148,
     "metadata": {},
     "output_type": "execute_result"
    }
   ],
   "source": [
    "52885645396806^49574189473968"
   ]
  },
  {
   "cell_type": "code",
   "execution_count": 161,
   "id": "b5788f06-1e77-41ae-9bcb-33aec106f7f0",
   "metadata": {},
   "outputs": [
    {
     "name": "stdout",
     "output_type": "stream",
     "text": [
      "[('qtf', 'z05'), ('dhf', 'z18'), ('ppq', 'z44'), ('mjj', 'z33'), ('mrc', 'z38')]\n",
      "diff 31950361308150\n"
     ]
    },
    {
     "name": "stderr",
     "output_type": "stream",
     "text": [
      "  0%|                                       | 23/24531 [00:00<01:47, 227.92it/s]"
     ]
    },
    {
     "name": "stdout",
     "output_type": "stream",
     "text": [
      "diff 3311455922870 ('qtf', 'z05')\n",
      "diff 1086590522698 ('bhp', 'mjj')\n"
     ]
    },
    {
     "name": "stderr",
     "output_type": "stream",
     "text": [
      "  1%|▎                                     | 189/24531 [00:00<01:00, 403.07it/s]"
     ]
    },
    {
     "name": "stdout",
     "output_type": "stream",
     "text": [
      "diff 12652669622 ('ckb', 'z28')\n"
     ]
    },
    {
     "name": "stderr",
     "output_type": "stream",
     "text": [
      "  4%|█▌                                   | 1016/24531 [00:02<00:50, 462.76it/s]"
     ]
    },
    {
     "name": "stdout",
     "output_type": "stream",
     "text": [
      "diff 4064832182 ('gmm', 'pwm')\n",
      "diff 38300342 ('cmj', 'z32')\n"
     ]
    },
    {
     "name": "stderr",
     "output_type": "stream",
     "text": [
      "  5%|█▋                                   | 1159/24531 [00:02<00:50, 466.53it/s]"
     ]
    },
    {
     "name": "stdout",
     "output_type": "stream",
     "text": [
      "diff 34106038 ('qtf', 'stc')\n"
     ]
    },
    {
     "name": "stderr",
     "output_type": "stream",
     "text": [
      "  8%|███                                  | 2015/24531 [00:04<00:49, 452.47it/s]"
     ]
    },
    {
     "name": "stdout",
     "output_type": "stream",
     "text": [
      "diff 33581752 ('pgc', 'z19')\n"
     ]
    },
    {
     "name": "stderr",
     "output_type": "stream",
     "text": [
      " 10%|███▌                                 | 2351/24531 [00:05<00:47, 466.20it/s]"
     ]
    },
    {
     "name": "stdout",
     "output_type": "stream",
     "text": [
      "diff 27320 ('crw', 'pcs')\n"
     ]
    },
    {
     "name": "stderr",
     "output_type": "stream",
     "text": [
      " 12%|████▎                                | 2824/24531 [00:06<00:46, 466.72it/s]"
     ]
    },
    {
     "name": "stdout",
     "output_type": "stream",
     "text": [
      "diff 5448 ('qnn', 'shd')\n",
      "diff 2744 ('hrf', 'z13')\n"
     ]
    },
    {
     "name": "stderr",
     "output_type": "stream",
     "text": [
      " 15%|█████▌                               | 3680/24531 [00:08<00:44, 468.64it/s]"
     ]
    },
    {
     "name": "stdout",
     "output_type": "stream",
     "text": [
      "diff 840 ('krf', 'tjd')\n",
      "diff 184 ('ffk', 'nbd')\n"
     ]
    },
    {
     "name": "stderr",
     "output_type": "stream",
     "text": [
      " 99%|███████████████████████████████████▊| 24406/24531 [00:54<00:00, 458.49it/s]"
     ]
    },
    {
     "name": "stdout",
     "output_type": "stream",
     "text": [
      "diff 56 ('z07', 'z08')\n"
     ]
    },
    {
     "name": "stderr",
     "output_type": "stream",
     "text": [
      "100%|████████████████████████████████████| 24531/24531 [00:54<00:00, 451.58it/s]"
     ]
    },
    {
     "name": "stdout",
     "output_type": "stream",
     "text": [
      "diff 8 ('ngm', 'z06')\n"
     ]
    },
    {
     "name": "stderr",
     "output_type": "stream",
     "text": [
      "\n"
     ]
    },
    {
     "data": {
      "text/plain": [
       "{('bhp', 'mjj'),\n",
       " ('ckb', 'z28'),\n",
       " ('cmj', 'z32'),\n",
       " ('crw', 'pcs'),\n",
       " ('ffk', 'nbd'),\n",
       " ('gmm', 'pwm'),\n",
       " ('hrf', 'z13'),\n",
       " ('krf', 'tjd'),\n",
       " ('ngm', 'z06'),\n",
       " ('pgc', 'z19'),\n",
       " ('qnn', 'shd'),\n",
       " ('qtf', 'stc'),\n",
       " ('qtf', 'z05'),\n",
       " ('z07', 'z08')}"
      ]
     },
     "execution_count": 161,
     "metadata": {},
     "output_type": "execute_result"
    }
   ],
   "source": [
    "from tqdm import tqdm\n",
    "import random\n",
    "gk = sorted(gates.keys())\n",
    "all_possible_swaps = [(a, b) for idx, a in enumerate(gk) for b in gk[idx + 1:]]\n",
    "random.shuffle(all_possible_swaps)\n",
    "print(all_possible_swaps[:5])\n",
    "swapped_gates = gates.copy()\n",
    "selected_swaps = set()\n",
    "diff = abs(true_result^run_calculation(layer0, gates)[0])\n",
    "print(\"diff\", diff)\n",
    "for swap in tqdm(all_possible_swaps):\n",
    "    test_swap = swapped_gates.copy()\n",
    "    # print('a')\n",
    "    tmp = test_swap[swap[0]]\n",
    "    # print('b')\n",
    "    test_swap[swap[0]] = test_swap[swap[1]] \n",
    "    # print('c')\n",
    "    test_swap[swap[1]] = tmp\n",
    "    new_res = run_calculation(layer0, test_swap)[0]\n",
    "    if new_res is not None:\n",
    "        # print('d')\n",
    "        if abs(true_result ^ new_res) < diff:\n",
    "            diff = abs(true_result - new_res)\n",
    "            # if swap[0] in [s[0] for s in selected_swaps]:\n",
    "            #     selected_swaps.remove([(s[0], s[1]) for s in selected_swaps if swap[0]==s[0]][0])\n",
    "            selected_swaps.add(swap)\n",
    "            swapped_gates = gates.copy()\n",
    "            for s in selected_swaps:\n",
    "                tmp = swapped_gates[s[0]]\n",
    "                swapped_gates[s[0]] = swapped_gates[s[1]] \n",
    "                swapped_gates[s[1]] = tmp\n",
    "            print(\"diff\", diff, swap)\n",
    "selected_swaps"
   ]
  },
  {
   "cell_type": "code",
   "execution_count": 164,
   "id": "e66cc4fa-de22-4f29-998e-a6c660ee590c",
   "metadata": {},
   "outputs": [
    {
     "data": {
      "text/plain": [
       "8"
      ]
     },
     "execution_count": 164,
     "metadata": {},
     "output_type": "execute_result"
    }
   ],
   "source": [
    "52885645396814-52885645396806"
   ]
  },
  {
   "cell_type": "code",
   "execution_count": 166,
   "id": "78cd3afd-1e90-4600-87dd-e39dd2c37279",
   "metadata": {},
   "outputs": [
    {
     "data": {
      "text/plain": [
       "52885645396814"
      ]
     },
     "execution_count": 166,
     "metadata": {},
     "output_type": "execute_result"
    }
   ],
   "source": [
    "r, al = run_calculation(layer0, swapped_gates)\n",
    "r"
   ]
  },
  {
   "cell_type": "code",
   "execution_count": 155,
   "id": "f5c24d22-4bc1-486c-a5c7-bb39b7fa7b4c",
   "metadata": {},
   "outputs": [
    {
     "data": {
      "text/plain": [
       "'bhp,cpw,gmm,gsw,mbj,mrc,pfv,qrm,sfj,stc,z18,hdn,jwh,pwm,vmh,z10,z12,z19,z24,z25,z32,z39'"
      ]
     },
     "execution_count": 155,
     "metadata": {},
     "output_type": "execute_result"
    }
   ],
   "source": [
    "\",\".join(sorted([s[0] for s in selected_swaps]) + sorted([s[1] for s in selected_swaps]))"
   ]
  },
  {
   "cell_type": "code",
   "execution_count": 160,
   "id": "d56083a2-de78-469f-a81b-3a0917207048",
   "metadata": {},
   "outputs": [
    {
     "data": {
      "text/plain": [
       "{'z14': {'in': ['fjm', 'gqp'], 'op': 'XOR'},\n",
       " 'hdn': {'in': ['x18', 'y18'], 'op': 'XOR'},\n",
       " 'shd': {'in': ['wbb', 'vnp'], 'op': 'AND'},\n",
       " 'cqw': {'in': ['srq', 'mpk'], 'op': 'OR'},\n",
       " 'tjw': {'in': ['y30', 'x30'], 'op': 'AND'},\n",
       " 'qhf': {'in': ['x26', 'y26'], 'op': 'AND'},\n",
       " 'kbs': {'in': ['y10', 'x10'], 'op': 'XOR'},\n",
       " 'swn': {'in': ['y43', 'x43'], 'op': 'XOR'},\n",
       " 'rkg': {'in': ['sfj', 'jks'], 'op': 'OR'},\n",
       " 'tct': {'in': ['y01', 'x01'], 'op': 'XOR'},\n",
       " 'z04': {'in': ['nsv', 'pjt'], 'op': 'XOR'},\n",
       " 'hfc': {'in': ['dcq', 'knt'], 'op': 'AND'},\n",
       " 'jks': {'in': ['hfh', 'cjm'], 'op': 'AND'},\n",
       " 'ngm': {'in': ['hwv', 'cpr'], 'op': 'OR'},\n",
       " 'nhn': {'in': ['fsm', 'btg'], 'op': 'AND'},\n",
       " 'tqh': {'in': ['y16', 'x16'], 'op': 'AND'},\n",
       " 'ksv': {'in': ['qtf', 'nsp'], 'op': 'XOR'},\n",
       " 'pbj': {'in': ['vjv', 'vvn'], 'op': 'AND'},\n",
       " 'bpn': {'in': ['y23', 'x23'], 'op': 'XOR'},\n",
       " 'z20': {'in': ['tsm', 'dnc'], 'op': 'OR'},\n",
       " 'z19': {'in': ['knt', 'dcq'], 'op': 'XOR'},\n",
       " 'qqf': {'in': ['ktj', 'cmb'], 'op': 'AND'},\n",
       " 'cmb': {'in': ['ckh', 'rrp'], 'op': 'OR'},\n",
       " 'hrf': {'in': ['x43', 'y43'], 'op': 'AND'},\n",
       " 'pfv': {'in': ['mwc', 'qjs'], 'op': 'OR'},\n",
       " 'z05': {'in': ['qpj', 'vmh'], 'op': 'XOR'},\n",
       " 'dgs': {'in': ['y16', 'x16'], 'op': 'XOR'},\n",
       " 'kcf': {'in': ['x29', 'y29'], 'op': 'XOR'},\n",
       " 'jmf': {'in': ['qqf', 'jjp'], 'op': 'OR'},\n",
       " 'z03': {'in': ['rnp', 'mbj'], 'op': 'XOR'},\n",
       " 'cpr': {'in': ['x12', 'y12'], 'op': 'AND'},\n",
       " 'z06': {'in': ['x06', 'y06'], 'op': 'AND'},\n",
       " 'z43': {'in': ['swn', 'rkg'], 'op': 'XOR'},\n",
       " 'fkg': {'in': ['x38', 'y38'], 'op': 'XOR'},\n",
       " 'nsv': {'in': ['x04', 'y04'], 'op': 'XOR'},\n",
       " 'dhf': {'in': ['x07', 'y07'], 'op': 'XOR'},\n",
       " 'hfh': {'in': ['bhp', 'shd'], 'op': 'OR'},\n",
       " 'z33': {'in': ['pwm', 'jgj'], 'op': 'XOR'},\n",
       " 'cfb': {'in': ['ddd', 'hdn'], 'op': 'AND'},\n",
       " 'bdh': {'in': ['qhf', 'kqk'], 'op': 'OR'},\n",
       " 'ckh': {'in': ['tcg', 'rtn'], 'op': 'AND'},\n",
       " 'wps': {'in': ['mjj', 'dcw'], 'op': 'OR'},\n",
       " 'sbj': {'in': ['pjk', 'jsv'], 'op': 'AND'},\n",
       " 'vts': {'in': ['gfr', 'ckc'], 'op': 'OR'},\n",
       " 'tsm': {'in': ['bnp', 'mtq'], 'op': 'AND'},\n",
       " 'gtq': {'in': ['y31', 'x31'], 'op': 'XOR'},\n",
       " 'z44': {'in': ['vjv', 'vvn'], 'op': 'XOR'},\n",
       " 'z09': {'in': ['tnc', 'gbw'], 'op': 'XOR'},\n",
       " 'tdr': {'in': ['pjt', 'nsv'], 'op': 'AND'},\n",
       " 'gcp': {'in': ['x09', 'y09'], 'op': 'AND'},\n",
       " 'knt': {'in': ['x19', 'y19'], 'op': 'XOR'},\n",
       " 'z45': {'in': ['mkh', 'pbj'], 'op': 'OR'},\n",
       " 'bwd': {'in': ['bnr', 'jhf'], 'op': 'AND'},\n",
       " 'kkt': {'in': ['x22', 'y22'], 'op': 'AND'},\n",
       " 'bhp': {'in': ['x41', 'y41'], 'op': 'AND'},\n",
       " 'nbd': {'in': ['x10', 'y10'], 'op': 'AND'},\n",
       " 'mjj': {'in': ['qnn', 'gsw'], 'op': 'AND'},\n",
       " 'pns': {'in': ['tjw', 'rds'], 'op': 'OR'},\n",
       " 'srg': {'in': ['y35', 'x35'], 'op': 'XOR'},\n",
       " 'z26': {'in': ['pnj', 'srn'], 'op': 'XOR'},\n",
       " 'wrd': {'in': ['rqp', 'qbc'], 'op': 'OR'},\n",
       " 'z31': {'in': ['gtq', 'pns'], 'op': 'XOR'},\n",
       " 'vpj': {'in': ['y40', 'x40'], 'op': 'AND'},\n",
       " 'bcm': {'in': ['y03', 'x03'], 'op': 'AND'},\n",
       " 'ckr': {'in': ['dgs', 'wps'], 'op': 'AND'},\n",
       " 'dnn': {'in': ['jwh', 'gcp'], 'op': 'OR'},\n",
       " 'qtf': {'in': ['sqd', 'pvg'], 'op': 'OR'},\n",
       " 'z37': {'in': ['cmb', 'ktj'], 'op': 'XOR'},\n",
       " 'z41': {'in': ['vnp', 'wbb'], 'op': 'XOR'},\n",
       " 'hvk': {'in': ['bpn', 'pjm'], 'op': 'AND'},\n",
       " 'z39': {'in': ['x14', 'y14'], 'op': 'XOR'},\n",
       " 'tqq': {'in': ['bnp', 'mtq'], 'op': 'XOR'},\n",
       " 'tmk': {'in': ['hds', 'cpw'], 'op': 'AND'},\n",
       " 'jsv': {'in': ['jvr', 'kbs'], 'op': 'OR'},\n",
       " 'pnj': {'in': ['pcs', 'kqm'], 'op': 'OR'},\n",
       " 'jbr': {'in': ['y33', 'x33'], 'op': 'AND'},\n",
       " 'z30': {'in': ['jww', 'mrf'], 'op': 'XOR'},\n",
       " 'z10': {'in': ['dnn', 'nbd'], 'op': 'XOR'},\n",
       " 'vmh': {'in': ['x05', 'y05'], 'op': 'XOR'},\n",
       " 'pcs': {'in': ['x25', 'y25'], 'op': 'AND'},\n",
       " 'z12': {'in': ['qbk', 'bpp'], 'op': 'XOR'},\n",
       " 'rpf': {'in': ['y25', 'x25'], 'op': 'XOR'},\n",
       " 'cmj': {'in': ['x39', 'y39'], 'op': 'XOR'},\n",
       " 'wbb': {'in': ['vpj', 'nhn'], 'op': 'OR'},\n",
       " 'djn': {'in': ['y18', 'x18'], 'op': 'AND'},\n",
       " 'z13': {'in': ['ctm', 'ngm'], 'op': 'XOR'},\n",
       " 'ckc': {'in': ['pjb', 'qtk'], 'op': 'AND'},\n",
       " 'qnn': {'in': ['y15', 'x15'], 'op': 'XOR'},\n",
       " 'nqk': {'in': ['y31', 'x31'], 'op': 'AND'},\n",
       " 'ndk': {'in': ['x02', 'y02'], 'op': 'XOR'},\n",
       " 'z22': {'in': ['jdv', 'rkk'], 'op': 'XOR'},\n",
       " 'skb': {'in': ['x19', 'y19'], 'op': 'AND'},\n",
       " 'tjd': {'in': ['wrd', 'nnd'], 'op': 'AND'},\n",
       " 'rqp': {'in': ['y07', 'x07'], 'op': 'AND'},\n",
       " 'mwc': {'in': ['x01', 'y01'], 'op': 'AND'},\n",
       " 'mbj': {'in': ['y03', 'x03'], 'op': 'XOR'},\n",
       " 'sfd': {'in': ['pns', 'gtq'], 'op': 'AND'},\n",
       " 'jgj': {'in': ['bwd', 'bwm'], 'op': 'OR'},\n",
       " 'vvn': {'in': ['hrf', 'grs'], 'op': 'OR'},\n",
       " 'dmf': {'in': ['y17', 'x17'], 'op': 'AND'},\n",
       " 'nbt': {'in': ['ckr', 'tqh'], 'op': 'OR'},\n",
       " 'pgc': {'in': ['x00', 'y00'], 'op': 'AND'},\n",
       " 'ffk': {'in': ['tqq', 'gmm'], 'op': 'AND'},\n",
       " 'kqt': {'in': ['x39', 'y39'], 'op': 'AND'},\n",
       " 'z23': {'in': ['pjm', 'bpn'], 'op': 'XOR'},\n",
       " 'rrw': {'in': ['qrm', 'ksv'], 'op': 'OR'},\n",
       " 'krf': {'in': ['x11', 'y11'], 'op': 'AND'},\n",
       " 'jvr': {'in': ['nbd', 'dnn'], 'op': 'AND'},\n",
       " 'mrf': {'in': ['y30', 'x30'], 'op': 'XOR'},\n",
       " 'qpj': {'in': ['tdr', 'psq'], 'op': 'OR'},\n",
       " 'z15': {'in': ['qnn', 'gsw'], 'op': 'XOR'},\n",
       " 'jhf': {'in': ['x32', 'y32'], 'op': 'XOR'},\n",
       " 'z08': {'in': ['wrd', 'nnd'], 'op': 'XOR'},\n",
       " 'mkh': {'in': ['x44', 'y44'], 'op': 'AND'},\n",
       " 'z32': {'in': ['jhf', 'bnr'], 'op': 'XOR'},\n",
       " 'nbw': {'in': ['fjm', 'gqp'], 'op': 'AND'},\n",
       " 'z11': {'in': ['jsv', 'pjk'], 'op': 'XOR'},\n",
       " 'stc': {'in': ['y21', 'x21'], 'op': 'AND'},\n",
       " 'rnp': {'in': ['hwc', 'mvv'], 'op': 'OR'},\n",
       " 'rmd': {'in': ['y13', 'x13'], 'op': 'AND'},\n",
       " 'sfj': {'in': ['x42', 'y42'], 'op': 'AND'},\n",
       " 'dcw': {'in': ['y15', 'x15'], 'op': 'AND'},\n",
       " 'tjn': {'in': ['x28', 'y28'], 'op': 'XOR'},\n",
       " 'mrc': {'in': ['x38', 'y38'], 'op': 'AND'},\n",
       " 'hqs': {'in': ['jgj', 'pwm'], 'op': 'AND'},\n",
       " 'kqk': {'in': ['srn', 'pnj'], 'op': 'AND'},\n",
       " 'pwm': {'in': ['x33', 'y33'], 'op': 'XOR'},\n",
       " 'crw': {'in': ['tmk', 'fmr'], 'op': 'OR'},\n",
       " 'z07': {'in': ['dhf', 'rrw'], 'op': 'XOR'},\n",
       " 'nbj': {'in': ['y28', 'x28'], 'op': 'AND'},\n",
       " 'rrp': {'in': ['y36', 'x36'], 'op': 'AND'},\n",
       " 'grs': {'in': ['rkg', 'swn'], 'op': 'AND'},\n",
       " 'chp': {'in': ['y17', 'x17'], 'op': 'XOR'},\n",
       " 'z42': {'in': ['hfh', 'cjm'], 'op': 'XOR'},\n",
       " 'jwh': {'in': ['tnc', 'gbw'], 'op': 'AND'},\n",
       " 'ktj': {'in': ['x37', 'y37'], 'op': 'XOR'},\n",
       " 'gmm': {'in': ['y21', 'x21'], 'op': 'XOR'},\n",
       " 'z34': {'in': ['pjb', 'qtk'], 'op': 'XOR'},\n",
       " 'bvh': {'in': ['kjb', 'nbj'], 'op': 'OR'},\n",
       " 'z17': {'in': ['nbt', 'chp'], 'op': 'XOR'},\n",
       " 'qbc': {'in': ['rrw', 'dhf'], 'op': 'AND'},\n",
       " 'z02': {'in': ['pfv', 'ndk'], 'op': 'XOR'},\n",
       " 'bkd': {'in': ['y27', 'x27'], 'op': 'XOR'},\n",
       " 'sqd': {'in': ['qpj', 'vmh'], 'op': 'AND'},\n",
       " 'hpp': {'in': ['mrc', 'ftb'], 'op': 'OR'},\n",
       " 'cpw': {'in': ['hvk', 'gpq'], 'op': 'OR'},\n",
       " 'z35': {'in': ['vts', 'srg'], 'op': 'XOR'},\n",
       " 'pjm': {'in': ['vfr', 'kkt'], 'op': 'OR'},\n",
       " 'ckb': {'in': ['hpp', 'cmj'], 'op': 'XOR'},\n",
       " 'gfr': {'in': ['y34', 'x34'], 'op': 'AND'},\n",
       " 'bnp': {'in': ['skb', 'hfc'], 'op': 'OR'},\n",
       " 'vfr': {'in': ['rkk', 'jdv'], 'op': 'AND'},\n",
       " 'crj': {'in': ['kcf', 'bvh'], 'op': 'AND'},\n",
       " 'jww': {'in': ['ppq', 'crj'], 'op': 'OR'},\n",
       " 'z40': {'in': ['btg', 'fsm'], 'op': 'XOR'},\n",
       " 'z38': {'in': ['jmf', 'fkg'], 'op': 'XOR'},\n",
       " 'mvv': {'in': ['y02', 'x02'], 'op': 'AND'},\n",
       " 'z18': {'in': ['hdn', 'ddd'], 'op': 'XOR'},\n",
       " 'rkk': {'in': ['ffk', 'stc'], 'op': 'OR'},\n",
       " 'vjv': {'in': ['x44', 'y44'], 'op': 'XOR'},\n",
       " 'vsw': {'in': ['y08', 'x08'], 'op': 'AND'},\n",
       " 'tnc': {'in': ['tjd', 'vsw'], 'op': 'OR'},\n",
       " 'gsw': {'in': ['pvc', 'nbw'], 'op': 'OR'},\n",
       " 'cjm': {'in': ['y42', 'x42'], 'op': 'XOR'},\n",
       " 'nsp': {'in': ['x06', 'y06'], 'op': 'XOR'},\n",
       " 'z29': {'in': ['kcf', 'bvh'], 'op': 'XOR'},\n",
       " 'pvg': {'in': ['y05', 'x05'], 'op': 'AND'},\n",
       " 'rtn': {'in': ['x36', 'y36'], 'op': 'XOR'},\n",
       " 'fmr': {'in': ['y24', 'x24'], 'op': 'AND'},\n",
       " 'ppp': {'in': ['mbj', 'rnp'], 'op': 'AND'},\n",
       " 'kqm': {'in': ['crw', 'rpf'], 'op': 'AND'},\n",
       " 'z24': {'in': ['cpw', 'hds'], 'op': 'XOR'},\n",
       " 'z01': {'in': ['pgc', 'tct'], 'op': 'XOR'},\n",
       " 'hwc': {'in': ['ndk', 'pfv'], 'op': 'AND'},\n",
       " 'gqp': {'in': ['cmj', 'hpp'], 'op': 'AND'},\n",
       " 'qrm': {'in': ['qtf', 'nsp'], 'op': 'AND'},\n",
       " 'qjs': {'in': ['tct', 'pgc'], 'op': 'AND'},\n",
       " 'fjm': {'in': ['rmd', 'wdq'], 'op': 'OR'},\n",
       " 'dnc': {'in': ['x20', 'y20'], 'op': 'AND'},\n",
       " 'ctm': {'in': ['y13', 'x13'], 'op': 'XOR'},\n",
       " 'cbf': {'in': ['nbt', 'chp'], 'op': 'AND'},\n",
       " 'fsm': {'in': ['x40', 'y40'], 'op': 'XOR'},\n",
       " 'bwm': {'in': ['x32', 'y32'], 'op': 'AND'},\n",
       " 'rds': {'in': ['jww', 'mrf'], 'op': 'AND'},\n",
       " 'z00': {'in': ['x00', 'y00'], 'op': 'XOR'},\n",
       " 'ddd': {'in': ['dmf', 'cbf'], 'op': 'OR'},\n",
       " 'ppq': {'in': ['x29', 'y29'], 'op': 'AND'},\n",
       " 'z25': {'in': ['crw', 'rpf'], 'op': 'XOR'},\n",
       " 'hwv': {'in': ['qbk', 'bpp'], 'op': 'AND'},\n",
       " 'pjk': {'in': ['y11', 'x11'], 'op': 'XOR'},\n",
       " 'mpk': {'in': ['bdh', 'bkd'], 'op': 'AND'},\n",
       " 'z16': {'in': ['wps', 'dgs'], 'op': 'XOR'},\n",
       " 'bpp': {'in': ['sbj', 'krf'], 'op': 'OR'},\n",
       " 'btg': {'in': ['kqt', 'ckb'], 'op': 'OR'},\n",
       " 'qbk': {'in': ['x12', 'y12'], 'op': 'XOR'},\n",
       " 'srn': {'in': ['y26', 'x26'], 'op': 'XOR'},\n",
       " 'qtk': {'in': ['y34', 'x34'], 'op': 'XOR'},\n",
       " 'z28': {'in': ['cqw', 'tjn'], 'op': 'XOR'},\n",
       " 'bnr': {'in': ['sfd', 'nqk'], 'op': 'OR'},\n",
       " 'pjb': {'in': ['hqs', 'jbr'], 'op': 'OR'},\n",
       " 'nnd': {'in': ['y08', 'x08'], 'op': 'XOR'},\n",
       " 'z27': {'in': ['bdh', 'bkd'], 'op': 'XOR'},\n",
       " 'jjp': {'in': ['y37', 'x37'], 'op': 'AND'},\n",
       " 'z36': {'in': ['tcg', 'rtn'], 'op': 'XOR'},\n",
       " 'psq': {'in': ['x04', 'y04'], 'op': 'AND'},\n",
       " 'z21': {'in': ['gmm', 'tqq'], 'op': 'XOR'},\n",
       " 'tcg': {'in': ['bgp', 'ntc'], 'op': 'OR'},\n",
       " 'wdq': {'in': ['ngm', 'ctm'], 'op': 'AND'},\n",
       " 'bgp': {'in': ['y35', 'x35'], 'op': 'AND'},\n",
       " 'gpq': {'in': ['y23', 'x23'], 'op': 'AND'},\n",
       " 'ntc': {'in': ['vts', 'srg'], 'op': 'AND'},\n",
       " 'gbw': {'in': ['x09', 'y09'], 'op': 'XOR'},\n",
       " 'vnp': {'in': ['y41', 'x41'], 'op': 'XOR'},\n",
       " 'jdv': {'in': ['x22', 'y22'], 'op': 'XOR'},\n",
       " 'mtq': {'in': ['y20', 'x20'], 'op': 'XOR'},\n",
       " 'hds': {'in': ['x24', 'y24'], 'op': 'XOR'},\n",
       " 'dcq': {'in': ['cfb', 'djn'], 'op': 'OR'},\n",
       " 'ftb': {'in': ['jmf', 'fkg'], 'op': 'AND'},\n",
       " 'pjt': {'in': ['ppp', 'bcm'], 'op': 'OR'},\n",
       " 'srq': {'in': ['y27', 'x27'], 'op': 'AND'},\n",
       " 'kjb': {'in': ['tjn', 'cqw'], 'op': 'AND'},\n",
       " 'pvc': {'in': ['y14', 'x14'], 'op': 'AND'}}"
      ]
     },
     "execution_count": 160,
     "metadata": {},
     "output_type": "execute_result"
    }
   ],
   "source": [
    "swapped_gates"
   ]
  },
  {
   "cell_type": "code",
   "execution_count": 158,
   "id": "b703d10c-f719-4462-9ddd-d101a36858db",
   "metadata": {},
   "outputs": [
    {
     "name": "stdout",
     "output_type": "stream",
     "text": [
      "[('ckh', 'rqp'), ('nbd', 'z35'), ('qhf', 'rnp'), ('bdh', 'kqt'), ('pvg', 'rkg')]\n"
     ]
    },
    {
     "ename": "TypeError",
     "evalue": "unsupported operand type(s) for ^: 'int' and 'NoneType'",
     "output_type": "error",
     "traceback": [
      "\u001b[0;31m---------------------------------------------------------------------------\u001b[0m",
      "\u001b[0;31mTypeError\u001b[0m                                 Traceback (most recent call last)",
      "Cell \u001b[0;32mIn[158], line 7\u001b[0m\n\u001b[1;32m      5\u001b[0m swapped_gates \u001b[38;5;241m=\u001b[39m swapped_gates\u001b[38;5;241m.\u001b[39mcopy()\n\u001b[1;32m      6\u001b[0m selected_swaps \u001b[38;5;241m=\u001b[39m \u001b[38;5;28mset\u001b[39m()\n\u001b[0;32m----> 7\u001b[0m diff \u001b[38;5;241m=\u001b[39m \u001b[38;5;28mabs\u001b[39m(\u001b[43mtrue_result\u001b[49m\u001b[38;5;241;43m^\u001b[39;49m\u001b[43mrun_calculation\u001b[49m\u001b[43m(\u001b[49m\u001b[43mlayer0\u001b[49m\u001b[43m,\u001b[49m\u001b[43m \u001b[49m\u001b[43mswapped_gates\u001b[49m\u001b[43m)\u001b[49m\u001b[43m[\u001b[49m\u001b[38;5;241;43m0\u001b[39;49m\u001b[43m]\u001b[49m)\n\u001b[1;32m      8\u001b[0m \u001b[38;5;28mprint\u001b[39m(\u001b[38;5;124m\"\u001b[39m\u001b[38;5;124mdiff\u001b[39m\u001b[38;5;124m\"\u001b[39m, diff)\n\u001b[1;32m      9\u001b[0m \u001b[38;5;28;01mfor\u001b[39;00m swap \u001b[38;5;129;01min\u001b[39;00m tqdm(all_possible_swaps):\n",
      "\u001b[0;31mTypeError\u001b[0m: unsupported operand type(s) for ^: 'int' and 'NoneType'"
     ]
    }
   ],
   "source": [
    "gk = sorted(swapped_gates.keys())\n",
    "all_possible_swaps = [(a, b) for idx, a in enumerate(gk) for b in gk[idx + 1:]]\n",
    "random.shuffle(all_possible_swaps)\n",
    "print(all_possible_swaps[:5])\n",
    "swapped_gates = swapped_gates.copy()\n",
    "selected_swaps = set()\n",
    "diff = abs(true_result^run_calculation(layer0, swapped_gates)[0])\n",
    "print(\"diff\", diff)\n",
    "for swap in tqdm(all_possible_swaps):\n",
    "    test_swap = swapped_gates.copy()\n",
    "    # print('a')\n",
    "    tmp = test_swap[swap[0]]\n",
    "    # print('b')\n",
    "    test_swap[swap[0]] = test_swap[swap[1]] \n",
    "    # print('c')\n",
    "    test_swap[swap[1]] = tmp\n",
    "    new_res = run_calculation(layer0, test_swap)[0]\n",
    "    if new_res is not None:\n",
    "        # print('d')\n",
    "        if abs(true_result ^ new_res) < diff:\n",
    "            diff = abs(true_result - new_res)\n",
    "            # if swap[0] in [s[0] for s in selected_swaps]:\n",
    "            #     selected_swaps.remove([(s[0], s[1]) for s in selected_swaps if swap[0]==s[0]][0])\n",
    "            selected_swaps.add(swap)\n",
    "            swapped_gates = gates.copy()\n",
    "            for s in selected_swaps:\n",
    "                tmp = swapped_gates[s[0]]\n",
    "                swapped_gates[s[0]] = swapped_gates[s[1]] \n",
    "                swapped_gates[s[1]] = tmp\n",
    "            print(\"diff\", diff, swap)\n",
    "selected_swaps"
   ]
  },
  {
   "cell_type": "code",
   "execution_count": null,
   "id": "cb6eb843-81d7-4782-8fd1-f65f2ff76af8",
   "metadata": {},
   "outputs": [],
   "source": []
  },
  {
   "cell_type": "code",
   "execution_count": null,
   "id": "5d61d92b-2f10-42db-b75b-bdf9cc131e4d",
   "metadata": {},
   "outputs": [],
   "source": []
  },
  {
   "cell_type": "code",
   "execution_count": null,
   "id": "0cbf7468-83a6-4e08-910e-d72354072c91",
   "metadata": {},
   "outputs": [],
   "source": []
  },
  {
   "cell_type": "code",
   "execution_count": null,
   "id": "27e28c90-a421-4e4a-8f54-c69c1c7a3ee4",
   "metadata": {},
   "outputs": [],
   "source": []
  },
  {
   "cell_type": "code",
   "execution_count": null,
   "id": "1e40bc4f-d0ec-45b4-b303-47493c79df4e",
   "metadata": {},
   "outputs": [],
   "source": []
  },
  {
   "cell_type": "code",
   "execution_count": null,
   "id": "c663aa41-f861-48d8-bfdd-8f73ac6b864b",
   "metadata": {},
   "outputs": [],
   "source": []
  },
  {
   "cell_type": "code",
   "execution_count": 167,
   "id": "647b2792-c39c-4599-a316-47eb0ad0f7b9",
   "metadata": {},
   "outputs": [
    {
     "data": {
      "text/plain": [
       "'1100000001100101100110000110111000101101001110'"
      ]
     },
     "execution_count": 167,
     "metadata": {},
     "output_type": "execute_result"
    }
   ],
   "source": [
    "\"\".join([str(al[k]) for k in sorted({k:v for k, v in al.items() if k.startswith('z')}.keys(), reverse=True)])"
   ]
  },
  {
   "cell_type": "code",
   "execution_count": 144,
   "id": "2f61c649-801d-4a71-920b-e169f29c4e06",
   "metadata": {},
   "outputs": [
    {
     "data": {
      "text/plain": [
       "'1100000001100101100110000110111000101101000110'"
      ]
     },
     "execution_count": 144,
     "metadata": {},
     "output_type": "execute_result"
    }
   ],
   "source": [
    "format(52885645396806, 'b')"
   ]
  },
  {
   "cell_type": "code",
   "execution_count": 165,
   "id": "01f506c3-6fa3-42cb-a93d-15a0323fbb08",
   "metadata": {},
   "outputs": [],
   "source": [
    "# swaping this give difference of of 8 (only 1 bit)\n",
    "# {('bhp', 'mjj'),\n",
    "#  ('ckb', 'z28'),\n",
    "#  ('cmj', 'z32'),\n",
    "#  ('crw', 'pcs'),\n",
    "#  ('ffk', 'nbd'),\n",
    "#  ('gmm', 'pwm'),\n",
    "#  ('hrf', 'z13'),\n",
    "#  ('krf', 'tjd'),\n",
    "#  ('ngm', 'z06'),\n",
    "#  ('pgc', 'z19'),\n",
    "#  ('qnn', 'shd'),\n",
    "#  ('qtf', 'stc'),\n",
    "#  ('qtf', 'z05'),\n",
    "#  ('z07', 'z08')}"
   ]
  },
  {
   "cell_type": "code",
   "execution_count": null,
   "id": "d320553b-50f4-4c2d-a4ad-afa0fc6f5086",
   "metadata": {},
   "outputs": [],
   "source": []
  }
 ],
 "metadata": {
  "kernelspec": {
   "display_name": "Python 3 (ipykernel)",
   "language": "python",
   "name": "python3"
  },
  "language_info": {
   "codemirror_mode": {
    "name": "ipython",
    "version": 3
   },
   "file_extension": ".py",
   "mimetype": "text/x-python",
   "name": "python",
   "nbconvert_exporter": "python",
   "pygments_lexer": "ipython3",
   "version": "3.8.12"
  }
 },
 "nbformat": 4,
 "nbformat_minor": 5
}
