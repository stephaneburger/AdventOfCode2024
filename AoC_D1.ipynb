{
 "cells": [
  {
   "cell_type": "code",
   "execution_count": 34,
   "id": "b64b4016-d443-41e2-bd0a-9c147488568c",
   "metadata": {},
   "outputs": [],
   "source": [
    "data = \"\"\"3   4\n",
    "4   3\n",
    "2   5\n",
    "1   3\n",
    "3   9\n",
    "3   3\"\"\""
   ]
  },
  {
   "cell_type": "code",
   "execution_count": 37,
   "id": "a243c7dc-0d32-4555-961e-f112f0f87277",
   "metadata": {},
   "outputs": [],
   "source": [
    "with open(\"AoC_D1_data.txt\", \"r\") as f:\n",
    "    data = f.read()"
   ]
  },
  {
   "cell_type": "code",
   "execution_count": 38,
   "id": "f53915eb-f922-4757-917f-11f582818b7b",
   "metadata": {},
   "outputs": [],
   "source": [
    "list1 = sorted([int(line.split(\"   \")[0]) for line in data.split(\"\\n\")])\n",
    "list2 = sorted([int(line.split(\"   \")[-1]) for line in data.split(\"\\n\")])"
   ]
  },
  {
   "cell_type": "code",
   "execution_count": 39,
   "id": "37582a36-de31-4f9c-a747-d0433f1aaef8",
   "metadata": {},
   "outputs": [
    {
     "data": {
      "text/plain": [
       "2285373"
      ]
     },
     "execution_count": 39,
     "metadata": {},
     "output_type": "execute_result"
    }
   ],
   "source": [
    "# PART 1\n",
    "sum(abs(v1-v2) for v1, v2 in zip(list1, list2))"
   ]
  },
  {
   "cell_type": "code",
   "execution_count": 40,
   "id": "5f7a0f5e-3ce4-406e-9a5e-5836bfbbb84b",
   "metadata": {},
   "outputs": [
    {
     "data": {
      "text/plain": [
       "21142653"
      ]
     },
     "execution_count": 40,
     "metadata": {},
     "output_type": "execute_result"
    }
   ],
   "source": [
    "# PART 2\n",
    "sum([v1 * list2.count(v1) for v1 in list1])"
   ]
  },
  {
   "cell_type": "code",
   "execution_count": null,
   "id": "7d98b369-7694-4cd7-a8a0-e64458473bb4",
   "metadata": {},
   "outputs": [],
   "source": []
  }
 ],
 "metadata": {
  "kernelspec": {
   "display_name": "Python 3 (ipykernel)",
   "language": "python",
   "name": "python3"
  },
  "language_info": {
   "codemirror_mode": {
    "name": "ipython",
    "version": 3
   },
   "file_extension": ".py",
   "mimetype": "text/x-python",
   "name": "python",
   "nbconvert_exporter": "python",
   "pygments_lexer": "ipython3",
   "version": "3.8.12"
  }
 },
 "nbformat": 4,
 "nbformat_minor": 5
}
