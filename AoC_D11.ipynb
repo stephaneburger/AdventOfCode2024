{
 "cells": [
  {
   "cell_type": "code",
   "execution_count": 64,
   "id": "702fa153-ec8e-426c-add8-1c24f7fdbad0",
   "metadata": {},
   "outputs": [],
   "source": [
    "data = \"\"\"125 17\"\"\""
   ]
  },
  {
   "cell_type": "code",
   "execution_count": 42,
   "id": "ddf1ac1b-6cd5-425a-8b17-81f7631c49cc",
   "metadata": {},
   "outputs": [],
   "source": [
    "with open(\"AoC_D11_data.txt\", \"r\") as f:\n",
    "    data = f.read()"
   ]
  },
  {
   "cell_type": "code",
   "execution_count": 65,
   "id": "33a1d47e-5bcb-4f70-8401-4a55e92852fb",
   "metadata": {},
   "outputs": [
    {
     "data": {
      "text/plain": [
       "['125', '17']"
      ]
     },
     "execution_count": 65,
     "metadata": {},
     "output_type": "execute_result"
    }
   ],
   "source": [
    "stones = data.split(\" \")\n",
    "stones"
   ]
  },
  {
   "cell_type": "code",
   "execution_count": 66,
   "id": "d63cf237-ca3e-47ba-8e5d-d5a9be0916ab",
   "metadata": {},
   "outputs": [],
   "source": [
    "def blink(stones):\n",
    "    new_stones = []\n",
    "    for stone in stones:\n",
    "        if int(stone)==0:\n",
    "            new_stones.append(\"1\")\n",
    "        elif len(stone)%2 == 0:\n",
    "            new_stones.append(str(int(stone[:int(len(stone)/2)])))\n",
    "            new_stones.append(str(int(stone[int(len(stone)/2):])))\n",
    "        else:\n",
    "            new_stones.append(str(int(stone)*2024))\n",
    "    return new_stones"
   ]
  },
  {
   "cell_type": "code",
   "execution_count": 67,
   "id": "578d8b3b-4811-4f76-91ca-0f6657e36a9c",
   "metadata": {},
   "outputs": [
    {
     "data": {
      "text/plain": [
       "55312"
      ]
     },
     "execution_count": 67,
     "metadata": {},
     "output_type": "execute_result"
    }
   ],
   "source": [
    "stones = data.split(\" \")\n",
    "for i in range(25):\n",
    "    stones = blink(stones)\n",
    "len(stones)"
   ]
  },
  {
   "cell_type": "code",
   "execution_count": 68,
   "id": "ca1a0c37-8e0d-4ece-8caa-8d7ba9b2bd06",
   "metadata": {},
   "outputs": [],
   "source": [
    "from functools import lru_cache\n",
    "@lru_cache(maxsize=None)\n",
    "def stone_multiplication_factor(stone, level):\n",
    "    if level == 0:\n",
    "        return 1\n",
    "    elif int(stone)==0:\n",
    "        return stone_multiplication_factor(\"1\", level-1)\n",
    "    elif len(stone)%2 == 0:\n",
    "        return stone_multiplication_factor(str(int(stone[:int(len(stone)/2)])), level-1) + stone_multiplication_factor(str(int(stone[int(len(stone)/2):])), level-1)\n",
    "    else:\n",
    "        return stone_multiplication_factor(str(int(stone)*2024), level -1)\n",
    "\n"
   ]
  },
  {
   "cell_type": "code",
   "execution_count": 69,
   "id": "9638915d-53b1-48e5-8ee7-6ee3d0dc3ea9",
   "metadata": {},
   "outputs": [
    {
     "data": {
      "text/plain": [
       "55312"
      ]
     },
     "execution_count": 69,
     "metadata": {},
     "output_type": "execute_result"
    }
   ],
   "source": [
    "stone_multiplication_factor(\"125\", 25) + stone_multiplication_factor(\"17\", 25) "
   ]
  },
  {
   "cell_type": "code",
   "execution_count": 70,
   "id": "cd3162b5-9118-4b3d-b32a-4336e32ad0cd",
   "metadata": {},
   "outputs": [],
   "source": [
    "import time\n"
   ]
  },
  {
   "cell_type": "code",
   "execution_count": 71,
   "id": "6d44dde7-01ed-4bdb-b70e-c4f07a9d111b",
   "metadata": {},
   "outputs": [
    {
     "name": "stdout",
     "output_type": "stream",
     "text": [
      "2266558877486382721\n",
      "0.02788710594177246\n"
     ]
    }
   ],
   "source": [
    "start = time.time()\n",
    "stone_count = 0\n",
    "for stone in stones:\n",
    "    stone_count += stone_multiplication_factor(stone, 75)\n",
    "print(stone_count)\n",
    "print(time.time()-start)\n"
   ]
  },
  {
   "cell_type": "code",
   "execution_count": null,
   "id": "9292d364-bc83-4c45-8568-57076034cdf2",
   "metadata": {},
   "outputs": [],
   "source": []
  }
 ],
 "metadata": {
  "kernelspec": {
   "display_name": "Python 3 (ipykernel)",
   "language": "python",
   "name": "python3"
  },
  "language_info": {
   "codemirror_mode": {
    "name": "ipython",
    "version": 3
   },
   "file_extension": ".py",
   "mimetype": "text/x-python",
   "name": "python",
   "nbconvert_exporter": "python",
   "pygments_lexer": "ipython3",
   "version": "3.8.12"
  }
 },
 "nbformat": 4,
 "nbformat_minor": 5
}
