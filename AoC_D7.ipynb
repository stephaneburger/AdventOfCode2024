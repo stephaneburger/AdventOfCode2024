{
 "cells": [
  {
   "cell_type": "code",
   "execution_count": 30,
   "id": "d3573c5e-ad81-4c89-83c1-4a642e544cbc",
   "metadata": {},
   "outputs": [],
   "source": [
    "data = \"\"\"190: 10 19\n",
    "3267: 81 40 27\n",
    "83: 17 5\n",
    "156: 15 6\n",
    "7290: 6 8 6 15\n",
    "161011: 16 10 13\n",
    "192: 17 8 14\n",
    "21037: 9 7 18 13\n",
    "292: 11 6 16 20\"\"\""
   ]
  },
  {
   "cell_type": "code",
   "execution_count": 17,
   "id": "b6ed04f6-e0a1-4cbb-97d6-fb3985fc231e",
   "metadata": {},
   "outputs": [],
   "source": [
    "with open(\"AoC_D7_data.txt\", \"r\") as f:\n",
    "    data = f.read()"
   ]
  },
  {
   "cell_type": "code",
   "execution_count": 31,
   "id": "b1091da4-a7fc-4557-855f-878555394512",
   "metadata": {},
   "outputs": [],
   "source": [
    "equations = [{'result':int(equation.split(\": \")[0]), \"values\":[int(v) for v in equation.split(\": \")[1].split(' ')]} for equation in data.split(\"\\n\")]\n",
    "# equations"
   ]
  },
  {
   "cell_type": "code",
   "execution_count": 32,
   "id": "0162409a-45dc-4140-b138-87ac6b927fe9",
   "metadata": {},
   "outputs": [],
   "source": [
    "def is_equation_true(equation):\n",
    "    result = equation['result']\n",
    "    values = equation['values']\n",
    "    calc = {0:[values[0]]}\n",
    "    for n, value in enumerate(values[1:]):\n",
    "        calc[n+1] = [v+value for v in calc[n]]+[v*value for v in calc[n]]\n",
    "    return result in calc[len(values)-1]\n",
    "        "
   ]
  },
  {
   "cell_type": "code",
   "execution_count": 33,
   "id": "d0431ccc-6063-40ac-8335-c393b54c309d",
   "metadata": {},
   "outputs": [
    {
     "data": {
      "text/plain": [
       "3749"
      ]
     },
     "execution_count": 33,
     "metadata": {},
     "output_type": "execute_result"
    }
   ],
   "source": [
    "tot = 0\n",
    "for equation in equations:\n",
    "    if is_equation_true(equation):\n",
    "        tot += equation['result']\n",
    "tot"
   ]
  },
  {
   "cell_type": "code",
   "execution_count": 34,
   "id": "0da05679-00bb-4731-b260-4ef9124732ad",
   "metadata": {},
   "outputs": [],
   "source": [
    "def is_equation_true_2(equation):\n",
    "    result = equation['result']\n",
    "    values = equation['values']\n",
    "    calc = {0:[values[0]]}\n",
    "    for n, value in enumerate(values[1:]):\n",
    "        calc[n+1] = [v+value for v in calc[n]]+[v*value for v in calc[n]] + [int(str(v)+str(value)) for v in calc[n]]\n",
    "    return result in calc[len(values)-1]\n",
    "        "
   ]
  },
  {
   "cell_type": "code",
   "execution_count": 35,
   "id": "9e23a828-9a36-4a93-be26-70c0c5038a96",
   "metadata": {},
   "outputs": [
    {
     "data": {
      "text/plain": [
       "11387"
      ]
     },
     "execution_count": 35,
     "metadata": {},
     "output_type": "execute_result"
    }
   ],
   "source": [
    "tot = 0\n",
    "for equation in equations:\n",
    "    if is_equation_true_2(equation):\n",
    "        tot += equation['result']\n",
    "tot"
   ]
  },
  {
   "cell_type": "code",
   "execution_count": null,
   "id": "08f9a386-c4da-45b6-b496-112875478526",
   "metadata": {},
   "outputs": [],
   "source": []
  }
 ],
 "metadata": {
  "kernelspec": {
   "display_name": "Python 3 (ipykernel)",
   "language": "python",
   "name": "python3"
  },
  "language_info": {
   "codemirror_mode": {
    "name": "ipython",
    "version": 3
   },
   "file_extension": ".py",
   "mimetype": "text/x-python",
   "name": "python",
   "nbconvert_exporter": "python",
   "pygments_lexer": "ipython3",
   "version": "3.8.12"
  }
 },
 "nbformat": 4,
 "nbformat_minor": 5
}
